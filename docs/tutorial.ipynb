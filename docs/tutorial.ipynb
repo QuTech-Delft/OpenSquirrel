{
 "nbformat": 4,
 "nbformat_minor": 0,
 "metadata": {
  "colab": {
   "provenance": []
  },
  "kernelspec": {
   "name": "python3",
   "language": "python",
   "display_name": "Python 3 (ipykernel)"
  },
  "language_info": {
   "name": "python"
  }
 },
 "cells": [
  {
   "cell_type": "markdown",
   "source": [
    "# Tutorial"
   ],
   "metadata": {
    "id": "eGWItVPT3Ell"
   }
  },
  {
   "cell_type": "markdown",
   "source": [
    "## Installation\n",
    "\n",
    "OpenSquirrel is available through the Python Package Index ([PyPI](<https://pypi.org/project/opensquirrel/>)). Accordingly, the installation is as easy as ABC:"
   ],
   "metadata": {
    "id": "t8yyUlX-4TPX"
   }
  },
  {
   "cell_type": "code",
   "outputs": [],
   "source": [
    "! pip install opensquirrel\n",
    "\n",
    "import opensquirrel"
   ],
   "metadata": {
    "collapsed": false
   },
   "execution_count": null
  },
  {
   "cell_type": "markdown",
   "source": [
    "## Creating a circuit\n",
    "\n",
    "OpenSquirrel's entrypoint is the `Circuit`, which represents a quantum circuit. You can create a circuit in two different ways:\n",
    " 1. form a string written in the cQASM 3.0 quantum programming language, or;\n",
    " 2. by using OpenSquirrel's `CircuitBuilder` in Python.\n",
    "\n",
    "### 1. From a cQASM 3.0 string"
   ],
   "metadata": {
    "id": "StoCwwPW4rpn"
   }
  },
  {
   "cell_type": "code",
   "source": [
    "from opensquirrel import Circuit\n",
    "\n",
    "my_circuit = Circuit.from_string(\n",
    "    \"\"\"\n",
    "    version 3.0\n",
    "\n",
    "    qubit[2] q\n",
    "    h q[0]; cnot q[0], q[1] // Create a Bell pair\n",
    "    \"\"\"\n",
    ")\n",
    "my_circuit"
   ],
   "metadata": {
    "colab": {
     "base_uri": "https://localhost:8080/"
    },
    "id": "tmxqGpjp5DCa",
    "outputId": "467c2871-9a5e-4315-8c75-d1738e83b60b",
    "ExecuteTime": {
     "end_time": "2024-03-08T10:27:30.893444Z",
     "start_time": "2024-03-08T10:27:30.862869Z"
    }
   },
   "execution_count": 40,
   "outputs": [
    {
     "data": {
      "text/plain": "version 3.0\n\nqubit[2] q\n\nh q[0]\ncnot q[0], q[1]"
     },
     "execution_count": 40,
     "metadata": {},
     "output_type": "execute_result"
    }
   ]
  },
  {
   "cell_type": "markdown",
   "source": [
    ">__Note__: Currently OpenSquirrel only supports a limited version of the quantum programming language cQASM 3.0. This is due to the fact that the latter is still under development. When new features are introduced to the language, OpenSquirrel will follow in due course. For example, at the time of writing, OpenSquirrel only supports the declaration of a single qubit register per quantum program, whereas the language already allows for the declaration of multiple qubit registers within the global scope of the quantum program. Both the language and OpenSquirrel are under continuous development. Nevertheless, the language features that _are_ supported by OpenSquirrel function properly.\n"
   ],
   "metadata": {
    "id": "sF1iOmO97vL2"
   }
  },
  {
   "cell_type": "markdown",
   "source": [
    "### 2. Using OpenSquirrel's `CircuitBuilder`\n",
    "\n",
    "For creation of a circuit through Python, the `CircuitBuilder` can be used accordingly:"
   ],
   "metadata": {
    "id": "Ssk8G7HB5VJV"
   }
  },
  {
   "cell_type": "code",
   "source": [
    "from opensquirrel import CircuitBuilder\n",
    "from opensquirrel.squirrel_ir import Qubit, Int, Float\n",
    "\n",
    "my_circuit_from_builder = CircuitBuilder(number_of_qubits=2).ry(Qubit(0), Float(0.23)).cnot(Qubit(0), Qubit(1)).to_circuit()\n",
    "my_circuit_from_builder"
   ],
   "metadata": {
    "colab": {
     "base_uri": "https://localhost:8080/"
    },
    "id": "_TZ0JF6152ri",
    "outputId": "11d6521b-f936-4f6f-c106-e472a845a647",
    "ExecuteTime": {
     "end_time": "2024-03-08T10:27:35.224974Z",
     "start_time": "2024-03-08T10:27:35.217069Z"
    }
   },
   "execution_count": 41,
   "outputs": [
    {
     "data": {
      "text/plain": "version 3.0\n\nqubit[2] q\n\nry q[0], 0.23\ncnot q[0], q[1]"
     },
     "execution_count": 41,
     "metadata": {},
     "output_type": "execute_result"
    }
   ]
  },
  {
   "cell_type": "markdown",
   "source": [
    "You can naturally use the functionalities available in Python to create your circuit:"
   ],
   "metadata": {
    "id": "Po7uNS2h6td6"
   }
  },
  {
   "cell_type": "code",
   "source": [
    "builder = CircuitBuilder(number_of_qubits=10)\n",
    "for i in range(0, 10, 2):\n",
    "    builder.h(Qubit(i))\n",
    "\n",
    "builder.to_circuit()"
   ],
   "metadata": {
    "colab": {
     "base_uri": "https://localhost:8080/"
    },
    "id": "8OJM5wML6xX1",
    "outputId": "5b39060a-0e42-458a-e178-1a15dacc8213",
    "ExecuteTime": {
     "end_time": "2024-03-08T10:27:37.686226Z",
     "start_time": "2024-03-08T10:27:37.670116Z"
    }
   },
   "execution_count": 42,
   "outputs": [
    {
     "data": {
      "text/plain": "version 3.0\n\nqubit[10] q\n\nh q[0]\nh q[2]\nh q[4]\nh q[6]\nh q[8]"
     },
     "execution_count": 42,
     "metadata": {},
     "output_type": "execute_result"
    }
   ]
  },
  {
   "cell_type": "markdown",
   "source": [
    "For instance, you can generate a quantum fourier transform (QFT) circuit as follows:"
   ],
   "metadata": {
    "id": "_hzJOEkk7KXa"
   }
  },
  {
   "cell_type": "code",
   "source": [
    "number_of_qubits = 5\n",
    "qft = CircuitBuilder(number_of_qubits=number_of_qubits)\n",
    "for i in range(number_of_qubits):\n",
    "      qft.h(Qubit(i))\n",
    "      for c in range(i + 1, number_of_qubits):\n",
    "            qft.crk(Qubit(c), Qubit(i), Int(c-i+1))\n",
    "\n",
    "qft.to_circuit()"
   ],
   "metadata": {
    "colab": {
     "base_uri": "https://localhost:8080/"
    },
    "id": "Pr8C34bj7RPI",
    "outputId": "bfbf7152-4964-4aef-d41f-3095a9645e83",
    "ExecuteTime": {
     "end_time": "2024-03-08T10:27:39.084143Z",
     "start_time": "2024-03-08T10:27:39.063078Z"
    }
   },
   "execution_count": 43,
   "outputs": [
    {
     "data": {
      "text/plain": "version 3.0\n\nqubit[5] q\n\nh q[0]\ncrk q[1], q[0], 2\ncrk q[2], q[0], 3\ncrk q[3], q[0], 4\ncrk q[4], q[0], 5\nh q[1]\ncrk q[2], q[1], 2\ncrk q[3], q[1], 3\ncrk q[4], q[1], 4\nh q[2]\ncrk q[3], q[2], 2\ncrk q[4], q[2], 3\nh q[3]\ncrk q[4], q[3], 2\nh q[4]"
     },
     "execution_count": 43,
     "metadata": {},
     "output_type": "execute_result"
    }
   ]
  },
  {
   "cell_type": "markdown",
   "source": [
    "### Strong types"
   ],
   "metadata": {
    "collapsed": false
   }
  },
  {
   "cell_type": "markdown",
   "source": [
    "As you can see, gates require _strong types_. For instance, you cannot do:"
   ],
   "metadata": {
    "id": "VOoDWUzJ84HE"
   }
  },
  {
   "cell_type": "code",
   "source": [
    "try:\n",
    "    Circuit.from_string(\n",
    "        \"\"\"\n",
    "        version 3.0\n",
    "        qubit[2] q\n",
    "\n",
    "        cnot q[0], 3 // The CNOT expects a qubit as second argument.\n",
    "        \"\"\"\n",
    "    )\n",
    "except Exception as e:\n",
    "    print(e)"
   ],
   "metadata": {
    "colab": {
     "base_uri": "https://localhost:8080/"
    },
    "id": "65gyfSMC9NzU",
    "outputId": "14446085-0ba7-46f8-8de3-ca677b2a794c",
    "ExecuteTime": {
     "end_time": "2024-03-08T10:27:40.818145Z",
     "start_time": "2024-03-08T10:27:40.802547Z"
    }
   },
   "execution_count": 44,
   "outputs": [
    {
     "name": "stdout",
     "output_type": "stream",
     "text": [
      "Argument #1 passed to gate `cnot` is of type <class 'opensquirrel.squirrel_ir.Int'> but should be <class 'opensquirrel.squirrel_ir.Qubit'>\n"
     ]
    }
   ]
  },
  {
   "cell_type": "markdown",
   "source": [
    "The issue is that the CNOT expects a qubit as second input argument, where an integer has been provided. By default, OpenSquirrel does not use LibQASM (the cQASM parser library), but will do so soon. You can enable this, which changes the error message:"
   ],
   "metadata": {
    "id": "70BczmiH9XJz"
   }
  },
  {
   "cell_type": "code",
   "outputs": [
    {
     "name": "stdout",
     "output_type": "stream",
     "text": [
      "Parsing error: Error at <unknown>:5:9..13: failed to resolve overload for cnot with argument pack (qubit, int)\n"
     ]
    }
   ],
   "source": [
    "try:\n",
    "    Circuit.from_string(\n",
    "        \"\"\"\n",
    "        version 3.0\n",
    "        qubit[2] q\n",
    "    \n",
    "        cnot q[0], 3 // The CNOT expects a qubit as second argument.\n",
    "        \"\"\", \n",
    "        use_libqasm=True\n",
    "    )\n",
    "except Exception as e:\n",
    "    print(e)"
   ],
   "metadata": {
    "collapsed": false,
    "ExecuteTime": {
     "end_time": "2024-03-08T10:27:42.480308Z",
     "start_time": "2024-03-08T10:27:42.466485Z"
    }
   },
   "execution_count": 45
  },
  {
   "cell_type": "markdown",
   "source": [
    "The same holds for the `CircuitBuilder`, _i.e._, it also throws an error if arguments are passed of an unexpected type: "
   ],
   "metadata": {
    "collapsed": false
   }
  },
  {
   "cell_type": "code",
   "outputs": [
    {
     "name": "stdout",
     "output_type": "stream",
     "text": [
      "Wrong argument type for gate `cnot`, got <class 'opensquirrel.squirrel_ir.Int'> but expected <class 'opensquirrel.squirrel_ir.Qubit'>\n"
     ]
    }
   ],
   "source": [
    "try:\n",
    "    CircuitBuilder(number_of_qubits=2).cnot(Qubit(0), Int(3))\n",
    "except Exception as e:\n",
    "    print(e)"
   ],
   "metadata": {
    "collapsed": false,
    "ExecuteTime": {
     "end_time": "2024-03-08T10:27:47.351394Z",
     "start_time": "2024-03-08T10:27:47.337395Z"
    }
   },
   "execution_count": 46
  },
  {
   "cell_type": "markdown",
   "source": [
    "## Modifying a circuit"
   ],
   "metadata": {
    "collapsed": false
   }
  },
  {
   "cell_type": "markdown",
   "source": [
    "### Merging gates\n",
    "\n",
    "OpenSquirrel can merge consecutive quantum gates. Currently, this is only done for single-qubit gates. The resulting gate is labeled as an \"anonymous gate\". Since those gates have no name, the placeholder `<anonymous-gate>` is used instead."
   ],
   "metadata": {
    "id": "O__7dQl39mLN"
   }
  },
  {
   "cell_type": "code",
   "source": [
    "import math\n",
    "\n",
    "builder = CircuitBuilder(number_of_qubits=1)\n",
    "for i in range(16):\n",
    "  builder.rx(Qubit(0), Float(math.pi / 16))\n",
    "\n",
    "circuit = builder.to_circuit()\n",
    "\n",
    "# Merge single qubit gates\n",
    "circuit.merge_single_qubit_gates()\n",
    "circuit"
   ],
   "metadata": {
    "colab": {
     "base_uri": "https://localhost:8080/"
    },
    "id": "n-gjYvDs-Mkk",
    "outputId": "9405bc6e-f311-42b2-f123-8819d7392188",
    "ExecuteTime": {
     "end_time": "2024-03-08T10:27:49.610224Z",
     "start_time": "2024-03-08T10:27:49.595Z"
    }
   },
   "execution_count": 47,
   "outputs": [
    {
     "data": {
      "text/plain": "version 3.0\n\nqubit[1] q\n\n<anonymous-gate>"
     },
     "execution_count": 47,
     "metadata": {},
     "output_type": "execute_result"
    }
   ]
  },
  {
   "cell_type": "markdown",
   "source": [
    "You can inspect what the gate has become in terms of the Bloch sphere rotation it represents:"
   ],
   "metadata": {
    "id": "sB29oZckHlI7"
   }
  },
  {
   "cell_type": "code",
   "source": [
    "circuit.squirrel_ir.statements[0]"
   ],
   "metadata": {
    "colab": {
     "base_uri": "https://localhost:8080/"
    },
    "id": "JH2M0jWdHoLW",
    "outputId": "a4671b9c-0a70-4f6e-9362-8ca3bddd7349",
    "ExecuteTime": {
     "end_time": "2024-03-08T10:27:52.333549Z",
     "start_time": "2024-03-08T10:27:52.319722Z"
    }
   },
   "execution_count": 48,
   "outputs": [
    {
     "data": {
      "text/plain": "BlochSphereRotation(Qubit[0], axis=[1. 0. 0.], angle=3.141592653589795, phase=0.0)"
     },
     "execution_count": 48,
     "metadata": {},
     "output_type": "execute_result"
    }
   ]
  },
  {
   "cell_type": "markdown",
   "source": [
    "In the above example, OpenSquirrel has merged all the Rx gates together. Yet, for now, OpenSquirrel does not recognize that this results in a single Rx over the cumulated angle of the individual rotations. Moreover, it does not recognize that the result corresponds to the X-gate (up to a global phase difference). At a later stage, we may want OpenSquirrel to recognize the resultant gate in the case it is part of the set of known gates. \n",
    "\n",
    "The gate set is, however, not immutable. In the following section, we demonstrate how new gates can be defined and added to the default gate set."
   ],
   "metadata": {
    "id": "PUzfod3wHwcu"
   }
  },
  {
   "cell_type": "markdown",
   "source": [
    "### Defining your own quantum gates\n",
    "\n",
    "OpenSquirrel accepts any new gate and requires its definition in terms of a semantic. Creating new gates is done using Python functions, decorators, and one of the following gate semantic classes: `BlochSphereRotation`, `ControlledGate`, or `MatrixGate`.\n",
    "\n",
    "- The `BlochSphereRotation` class is used to define an arbitrary single qubit gate. It accepts a qubit, an axis, an angle, and a phase as arguments. Below is shown how the X-gate is defined in the default gate set of OpenSquirrel:\n",
    "\n",
    "```python\n",
    "@named_gate\n",
    "def x(q: Qubit) -> Gate:\n",
    "    return BlochSphereRotation(qubit=q, axis=(1, 0, 0), angle=math.pi, phase=math.pi / 2)\n",
    "```\n",
    "\n",
    "Notice the `@named_gate` decorator. This _tells_ OpenSquirrel that the function defines a gate and that it should, therefore, have all the nice properties OpenSquirrel expects of it. When you define a gate as such, it also creates a gate in the accompanying cQASM 3.0 parser taking the same arguments as the Python function.\n",
    "\n",
    "- The `ControlledGate` class is used to define a multiple qubit gate that comprises a controlled operation. For instance, the CNOT gate is defined in the default gate set of OpenSquirrel as follows:\n",
    "\n",
    "```python\n",
    "@named_gate\n",
    "def cnot(control: Qubit, target: Qubit) -> Gate:\n",
    "    return ControlledGate(control, x(target))\n",
    "```\n",
    "\n",
    "- The `MatrixGate` class may be used to define a gate in the generic form of a matrix:\n",
    "\n",
    "```python\n",
    "@named_gate\n",
    "def swap(q1: Qubit, q2: Qubit) -> Gate:\n",
    "    return MatrixGate(\n",
    "        np.array(\n",
    "            [\n",
    "                [1, 0, 0, 0],\n",
    "                [0, 0, 1, 0],\n",
    "                [0, 1, 0, 0],\n",
    "                [0, 0, 0, 1],\n",
    "            ]\n",
    "        ),\n",
    "        [q1, q2],\n",
    "    )\n",
    "```"
   ],
   "metadata": {
    "id": "IZWKGM6CIA_3"
   }
  },
  {
   "cell_type": "markdown",
   "source": [
    "Once you have defined your new quantum gates, you can pass them as a custom `gate_set` argument to the `Circuit` object. Here is how to add, _e.g._, the Sycamore gate (labeled as `syc`) on top of the existing default gate set of OpenSquirrel:"
   ],
   "metadata": {
    "id": "RbHgbA4fK-Gz"
   }
  },
  {
   "cell_type": "code",
   "source": [
    "import numpy as np\n",
    "import cmath\n",
    "from opensquirrel import default_gates\n",
    "from opensquirrel.squirrel_ir import named_gate, MatrixGate\n",
    "\n",
    "# Definition of the Sycamore gate as a MatrixGate\n",
    "@named_gate\n",
    "def syc(q1: Qubit, q2: Qubit):\n",
    "      return MatrixGate(\n",
    "            matrix=np.array([\n",
    "                [1, 0, 0, 0],\n",
    "                [0, 0, -1j, 0],\n",
    "                [0, -1j, 0, 0],\n",
    "                [0, 0, 0, cmath.rect(1, - math.pi / 6)]\n",
    "                ]), \n",
    "            operands=[q1, q2]\n",
    "      )\n",
    "\n",
    "my_extended_gate_set = default_gates.default_gate_set.copy()\n",
    "my_extended_gate_set.append(syc)\n",
    "\n",
    "my_sycamore_circuit = Circuit.from_string(\n",
    "    \"\"\"\n",
    "    version 3.0\n",
    "    qubit[3] q\n",
    "    \n",
    "    h q[1]\n",
    "    syc q[1], q[2]\n",
    "    cnot q[0], q[1]\n",
    "    \"\"\", \n",
    "    gate_set=my_extended_gate_set\n",
    ")"
   ],
   "metadata": {
    "colab": {
     "base_uri": "https://localhost:8080/"
    },
    "id": "V4P_8wbNLMOs",
    "outputId": "5254cc4f-25bd-463a-fb3d-7a692c6e7037",
    "ExecuteTime": {
     "end_time": "2024-03-08T10:34:07.197992Z",
     "start_time": "2024-03-08T10:34:07.182598Z"
    }
   },
   "execution_count": 63,
   "outputs": []
  },
  {
   "cell_type": "markdown",
   "source": [
    "### Gate decomposition\n",
    "\n",
    "OpenSquirrel can decompose the gates of a quantum circuit, given a specific decomposition. OpenSquirrel offers several, so-called, decomposers out of the box, but users can also make their own decomposer and apply them to the circuit. Decompositions can be:\n",
    "   1. predefined, or;\n",
    "   2. inferred from the gate semantics.\n",
    "\n",
    "#### 1. Predefined decomposition\n",
    "\n",
    "The first kind of decomposition is when you want to replace a particular gate in the circuit, like the CNOT gate, with a fixed list of gates. It is commonly known that CNOT can be decomposed as H-CZ-H. This decomposition is demonstrated below using a Python _lambda function_, which requires the same parameters as the gate that is decomposed:"
   ],
   "metadata": {
    "id": "E0jS8Nb0JVj3"
   }
  },
  {
   "cell_type": "code",
   "source": [
    "from opensquirrel.default_gates import cnot, h, cz\n",
    "\n",
    "circuit = Circuit.from_string(\n",
    "    \"\"\"\n",
    "    version 3.0\n",
    "    qubit[3] q\n",
    "    \n",
    "    x q[0:2]  // Note that this notation is expanded in OpenSquirrel.\n",
    "    cnot q[0], q[1]\n",
    "    ry q[2], 6.78\n",
    "    \"\"\"\n",
    ")\n",
    "\n",
    "circuit.replace(cnot,\n",
    "                lambda control, target:\n",
    "                [   \n",
    "                    h(target),\n",
    "                    cz(control, target),\n",
    "                    h(target),\n",
    "                ]\n",
    "            )\n",
    "circuit"
   ],
   "metadata": {
    "colab": {
     "base_uri": "https://localhost:8080/"
    },
    "id": "P7KolwXzJwq7",
    "outputId": "c583da3f-8135-4074-ab9d-e5476a84590a",
    "ExecuteTime": {
     "end_time": "2024-03-08T10:28:02.556200Z",
     "start_time": "2024-03-08T10:28:02.537046Z"
    }
   },
   "execution_count": 50,
   "outputs": [
    {
     "data": {
      "text/plain": "version 3.0\n\nqubit[3] q\n\nx q[0]\nx q[1]\nx q[2]\nh q[1]\ncz q[0], q[1]\nh q[1]\nry q[2], 6.78"
     },
     "execution_count": 50,
     "metadata": {},
     "output_type": "execute_result"
    }
   ]
  },
  {
   "cell_type": "markdown",
   "source": [
    "OpenSquirrel will check whether the provided decomposition is correct. For instance, an exception is thrown if we forget the final Hadamard, or H-gate, in our custom-made decomposition:"
   ],
   "metadata": {
    "id": "NallB8_hKTp3"
   }
  },
  {
   "cell_type": "code",
   "source": [
    "circuit = Circuit.from_string(\n",
    "    \"\"\"\n",
    "    version 3.0\n",
    "    qubit[3] q\n",
    "    \n",
    "    x q[0:2]\n",
    "    cnot q[0], q[1]\n",
    "    ry q[2], 6.78\n",
    "    \"\"\"\n",
    ")\n",
    "\n",
    "try:\n",
    "  circuit.replace(cnot,\n",
    "                  lambda control, target:\n",
    "                  [\n",
    "                      h(target),\n",
    "                      cz(control, target),\n",
    "                  ]\n",
    ")\n",
    "\n",
    "except Exception as e:\n",
    "  print(e)"
   ],
   "metadata": {
    "colab": {
     "base_uri": "https://localhost:8080/"
    },
    "id": "eEbj3aGhKbOn",
    "outputId": "33537ff4-502e-44c1-b8ef-f7535735255f",
    "ExecuteTime": {
     "end_time": "2024-03-08T10:28:04.262904Z",
     "start_time": "2024-03-08T10:28:04.251396Z"
    }
   },
   "execution_count": 51,
   "outputs": [
    {
     "name": "stdout",
     "output_type": "stream",
     "text": [
      "Replacement for gate cnot does not preserve the quantum state\n"
     ]
    }
   ]
  },
  {
   "cell_type": "markdown",
   "source": [
    "#### 2. Inferred decomposition"
   ],
   "metadata": {
    "collapsed": false
   }
  },
  {
   "cell_type": "markdown",
   "source": [
    "On top of decompositions of a single gate, OpenSquirrel can decompose gates _based on their semantics_, regardless of name. To give an example, let us decompose an arbitrary single qubit gate into a product of axis rotations ZYZ; note that these are not Y- and Z-gates, but Ry and Rz rotations gates.\n",
    "\n",
    "First, we need to figure out the mathmatics behind this decomposition. Let us use quaternions and the Python library for symbolic mathematics [SymPy](https://www.sympy.org/en/index.html) for this; it will make things a lot easier. A 3D rotation of angle $\\alpha$ about the (normalized) axis $n=\\left(n_x, n_y, n_z \\right)$ can be represented by the quaternion $q = \\cos\\left(\\alpha/2\\right) + \\sin\\left(\\alpha/2\\right) \\left( n_x i + n_y j + n_z k \\right)$. Since composition of rotations is equivalent to the product of their quaternions, we have to find the angles $\\theta_1$, $\\theta_2$ and $\\theta_3$ such that\n",
    "\n",
    "$$\\begin{align}\n",
    "q =\n",
    "&\\left[ \\cos\\left(\\frac{\\theta_1}{2}\\right) + k \\sin\\left(\\frac{\\theta_1}{2}\\right) \\right]\\\\\n",
    "&\\times\\left[ \\cos\\left(\\frac{\\theta_2}{2}\\right) + j \\sin\\left(\\frac{\\theta_2}{2}\\right) \\right]\\\\\n",
    "&\\times\\left[ \\cos\\left(\\frac{\\theta_3}{2}\\right) + k \\sin\\left(\\frac{\\theta_3}{2}\\right) \\right]\\ .\n",
    "\\end{align}\n",
    "$$\n",
    "\n",
    "Let us expand this last term with SymPy:"
   ],
   "metadata": {
    "id": "QPsM_6FvNa-M"
   }
  },
  {
   "cell_type": "code",
   "source": [
    "! pip install sympy"
   ],
   "metadata": {
    "collapsed": false
   },
   "execution_count": null,
   "outputs": []
  },
  {
   "cell_type": "code",
   "outputs": [
    {
     "data": {
      "text/plain": "cos(theta_2/2)*cos((theta_1 + theta_3)/2) + (-sin(theta_2/2)*sin((theta_1 - theta_3)/2))*i + sin(theta_2/2)*cos((theta_1 - theta_3)/2)*j + sin((theta_1 + theta_3)/2)*cos(theta_2/2)*k",
      "text/latex": "$\\displaystyle \\cos{\\left(\\frac{\\theta_{2}}{2} \\right)} \\cos{\\left(\\frac{\\theta_{1} + \\theta_{3}}{2} \\right)} + - \\sin{\\left(\\frac{\\theta_{2}}{2} \\right)} \\sin{\\left(\\frac{\\theta_{1} - \\theta_{3}}{2} \\right)} i + \\sin{\\left(\\frac{\\theta_{2}}{2} \\right)} \\cos{\\left(\\frac{\\theta_{1} - \\theta_{3}}{2} \\right)} j + \\sin{\\left(\\frac{\\theta_{1} + \\theta_{3}}{2} \\right)} \\cos{\\left(\\frac{\\theta_{2}}{2} \\right)} k$"
     },
     "execution_count": 65,
     "metadata": {},
     "output_type": "execute_result"
    }
   ],
   "source": [
    "import sympy as sp\n",
    "\n",
    "theta1, theta2, theta3 = sp.symbols(\"theta_1 theta_2 theta_3\")\n",
    "\n",
    "z1 = sp.algebras.Quaternion.from_axis_angle((0, 0, 1), theta1)\n",
    "y = sp.algebras.Quaternion.from_axis_angle((0, 1, 0), theta2)\n",
    "z2 = sp.algebras.Quaternion.from_axis_angle((0, 0, 1), theta3)\n",
    "\n",
    "rhs = sp.trigsimp(sp.expand(z1 * y * z2))\n",
    "rhs"
   ],
   "metadata": {
    "colab": {
     "base_uri": "https://localhost:8080/",
     "height": 58
    },
    "id": "HBDxPUktV4Hh",
    "outputId": "f45f7581-90d2-4011-8f69-a9b538232818",
    "ExecuteTime": {
     "end_time": "2024-03-08T10:42:25.071471Z",
     "start_time": "2024-03-08T10:42:24.899222Z"
    }
   },
   "execution_count": 65
  },
  {
   "cell_type": "markdown",
   "source": [
    "Let us change variables and define $p\\equiv\\theta_1 + \\theta_3$ and $m\\equiv\\theta_1 - \\theta_3$."
   ],
   "metadata": {
    "id": "OKso2MAIQ4wD"
   }
  },
  {
   "cell_type": "code",
   "source": [
    "p, m = sp.symbols(\"p m\")\n",
    "\n",
    "rhs_simplified = rhs.subs({\n",
    "    theta1 + theta3: p,\n",
    "    theta1 - theta3: m\n",
    "})\n",
    "\n",
    "rhs_simplified"
   ],
   "metadata": {
    "colab": {
     "base_uri": "https://localhost:8080/",
     "height": 58
    },
    "id": "trzm7KB-IbJZ",
    "outputId": "1fd23699-f820-4447-97ed-b6f95e255901",
    "ExecuteTime": {
     "end_time": "2024-03-08T10:28:46.837763Z",
     "start_time": "2024-03-08T10:28:46.818998Z"
    }
   },
   "execution_count": 55,
   "outputs": [
    {
     "data": {
      "text/plain": "cos(p/2)*cos(theta_2/2) + (-sin(m/2)*sin(theta_2/2))*i + sin(theta_2/2)*cos(m/2)*j + sin(p/2)*cos(theta_2/2)*k",
      "text/latex": "$\\displaystyle \\cos{\\left(\\frac{p}{2} \\right)} \\cos{\\left(\\frac{\\theta_{2}}{2} \\right)} + - \\sin{\\left(\\frac{m}{2} \\right)} \\sin{\\left(\\frac{\\theta_{2}}{2} \\right)} i + \\sin{\\left(\\frac{\\theta_{2}}{2} \\right)} \\cos{\\left(\\frac{m}{2} \\right)} j + \\sin{\\left(\\frac{p}{2} \\right)} \\cos{\\left(\\frac{\\theta_{2}}{2} \\right)} k$"
     },
     "execution_count": 55,
     "metadata": {},
     "output_type": "execute_result"
    }
   ]
  },
  {
   "cell_type": "markdown",
   "source": [
    "The original quaternion $q$ can be defined in Sympy accordingly:"
   ],
   "metadata": {
    "id": "F5la6u2D9VBw"
   }
  },
  {
   "cell_type": "code",
   "source": [
    "alpha, nx, ny, nz = sp.symbols(\"alpha n_x n_y n_z\")\n",
    "\n",
    "q = sp.algebras.Quaternion.from_axis_angle((nx, ny, nz), alpha).subs({\n",
    "    nx**2 + ny**2 + nz**2: 1  # We assume the axis is normalized.\n",
    "})\n",
    "q"
   ],
   "metadata": {
    "id": "c7uAHXP8YQYl",
    "colab": {
     "base_uri": "https://localhost:8080/",
     "height": 48
    },
    "outputId": "ca03e7e8-98aa-4fce-b13a-93170e655fb6",
    "ExecuteTime": {
     "end_time": "2024-03-08T10:28:49.828096Z",
     "start_time": "2024-03-08T10:28:49.815075Z"
    }
   },
   "execution_count": 56,
   "outputs": [
    {
     "data": {
      "text/plain": "cos(alpha/2) + n_x*sin(alpha/2)*i + n_y*sin(alpha/2)*j + n_z*sin(alpha/2)*k",
      "text/latex": "$\\displaystyle \\cos{\\left(\\frac{\\alpha}{2} \\right)} + n_{x} \\sin{\\left(\\frac{\\alpha}{2} \\right)} i + n_{y} \\sin{\\left(\\frac{\\alpha}{2} \\right)} j + n_{z} \\sin{\\left(\\frac{\\alpha}{2} \\right)} k$"
     },
     "execution_count": 56,
     "metadata": {},
     "output_type": "execute_result"
    }
   ]
  },
  {
   "cell_type": "markdown",
   "source": [
    "We get the following system of equations, where the unknowns are $p$, $m$, and $\\theta_2$:"
   ],
   "metadata": {
    "id": "XjcQcczO28_a"
   }
  },
  {
   "cell_type": "code",
   "source": [
    "from IPython.display import display, Math\n",
    "\n",
    "display(\n",
    "    sp.Eq(rhs_simplified.a, q.a),\n",
    "    sp.Eq(rhs_simplified.b, q.b),\n",
    "    sp.Eq(rhs_simplified.c, q.c),\n",
    "    sp.Eq(rhs_simplified.d, q.d)\n",
    "    )\n"
   ],
   "metadata": {
    "colab": {
     "base_uri": "https://localhost:8080/",
     "height": 180
    },
    "id": "NIPpcbgG2FFc",
    "outputId": "b00a9ad2-4391-4bcb-b6ac-96c74807852f",
    "ExecuteTime": {
     "end_time": "2024-03-08T10:28:51.872928Z",
     "start_time": "2024-03-08T10:28:51.852745Z"
    }
   },
   "execution_count": 57,
   "outputs": [
    {
     "data": {
      "text/plain": "Eq(cos(p/2)*cos(theta_2/2), cos(alpha/2))",
      "text/latex": "$\\displaystyle \\cos{\\left(\\frac{p}{2} \\right)} \\cos{\\left(\\frac{\\theta_{2}}{2} \\right)} = \\cos{\\left(\\frac{\\alpha}{2} \\right)}$"
     },
     "metadata": {},
     "output_type": "display_data"
    },
    {
     "data": {
      "text/plain": "Eq(-sin(m/2)*sin(theta_2/2), n_x*sin(alpha/2))",
      "text/latex": "$\\displaystyle - \\sin{\\left(\\frac{m}{2} \\right)} \\sin{\\left(\\frac{\\theta_{2}}{2} \\right)} = n_{x} \\sin{\\left(\\frac{\\alpha}{2} \\right)}$"
     },
     "metadata": {},
     "output_type": "display_data"
    },
    {
     "data": {
      "text/plain": "Eq(sin(theta_2/2)*cos(m/2), n_y*sin(alpha/2))",
      "text/latex": "$\\displaystyle \\sin{\\left(\\frac{\\theta_{2}}{2} \\right)} \\cos{\\left(\\frac{m}{2} \\right)} = n_{y} \\sin{\\left(\\frac{\\alpha}{2} \\right)}$"
     },
     "metadata": {},
     "output_type": "display_data"
    },
    {
     "data": {
      "text/plain": "Eq(sin(p/2)*cos(theta_2/2), n_z*sin(alpha/2))",
      "text/latex": "$\\displaystyle \\sin{\\left(\\frac{p}{2} \\right)} \\cos{\\left(\\frac{\\theta_{2}}{2} \\right)} = n_{z} \\sin{\\left(\\frac{\\alpha}{2} \\right)}$"
     },
     "metadata": {},
     "output_type": "display_data"
    }
   ]
  },
  {
   "cell_type": "markdown",
   "source": [
    "This system can be solved using Sympy, but we obtain a rather ugly solution after some computation time:"
   ],
   "metadata": {
    "id": "aghJPoCB9hjY"
   }
  },
  {
   "cell_type": "code",
   "source": [
    "# sp.solve([q.a - rhs.a, q.b - rhs.b, q.c - rhs.c, q.d - rhs.d], theta1, theta2, theta3) # Using this we obtain a rather ugly solution after some computation time ..."
   ],
   "metadata": {
    "id": "Vdb1iFW29mDL",
    "ExecuteTime": {
     "end_time": "2024-03-08T10:28:54.292582Z",
     "start_time": "2024-03-08T10:28:54.281840Z"
    }
   },
   "execution_count": 58,
   "outputs": []
  },
  {
   "cell_type": "markdown",
   "source": [
    "Instead, we assume $\\sin(p/2) \\neq 0$, such that we can substitute in the first equation $\\cos\\left(\\theta_2/2\\right)$ with its value computed from the last equation. We find:"
   ],
   "metadata": {
    "id": "V-3bhn-o3mnJ"
   }
  },
  {
   "cell_type": "code",
   "source": [
    "sp.trigsimp(sp.Eq(rhs_simplified.a, q.a).subs(sp.cos(theta2 / 2), nz * sp.sin(alpha / 2) / sp.sin(p / 2)))"
   ],
   "metadata": {
    "colab": {
     "base_uri": "https://localhost:8080/",
     "height": 62
    },
    "id": "5a7du4SZ-eek",
    "outputId": "608b4974-fffb-4bd8-fd13-56a597fbc0ef",
    "ExecuteTime": {
     "end_time": "2024-03-08T10:28:57.257204Z",
     "start_time": "2024-03-08T10:28:57.234258Z"
    }
   },
   "execution_count": 59,
   "outputs": [
    {
     "data": {
      "text/plain": "Eq(n_z*sin(alpha/2)/tan(p/2), cos(alpha/2))",
      "text/latex": "$\\displaystyle \\frac{n_{z} \\sin{\\left(\\frac{\\alpha}{2} \\right)}}{\\tan{\\left(\\frac{p}{2} \\right)}} = \\cos{\\left(\\frac{\\alpha}{2} \\right)}$"
     },
     "execution_count": 59,
     "metadata": {},
     "output_type": "execute_result"
    }
   ]
  },
  {
   "cell_type": "markdown",
   "source": [
    "Therefore\n",
    "$$\n",
    "p = \\theta_1 + \\theta_3 = 2 \\arctan \\left[n_z \\tan\n",
    "\\left(\n",
    "\\frac{\\alpha}{2} \\right)\\right]\n",
    "$$"
   ],
   "metadata": {
    "id": "kWWrouTT5z7_"
   }
  },
  {
   "cell_type": "markdown",
   "source": [
    "We can then deduce\n",
    "$$\n",
    "\\begin{array}{rl}\n",
    "\\theta_2 & = 2 \\arccos \\left[ \\cos \\left(\\frac{\\alpha}{2}\\right) \\cos^{-1}\\left(\\frac{p}{2}\\right) \\right] \\\\\n",
    "&= 2 \\arccos \\left[ \\cos\\left(\\frac{\\alpha}{2}\\right) \\sqrt{1 + n_z^2 \\tan^2 \\left(\n",
    "  \\frac{\\alpha}{2}  \\right) } \\right] \\\\\n",
    "\\end{array}\n",
    "$$"
   ],
   "metadata": {
    "id": "FbFJJtNSPgYX"
   }
  },
  {
   "cell_type": "markdown",
   "source": [
    "Using the third equation, we can finally infer the value of $m$:\n",
    "$$\n",
    "m=\\theta_1 - \\theta_3 = 2\\arccos\\left[\\frac{ n_y \\sin\\left(\\frac{\\alpha}{2}\\right) } {\\sin\\left(\\frac{\\theta_2}{2}\\right)}\\right]\n",
    "$$"
   ],
   "metadata": {
    "id": "8xYQQeyjRcUd"
   }
  },
  {
   "cell_type": "markdown",
   "source": [
    "Let us put this into code..."
   ],
   "metadata": {
    "id": "f3TqRkKTArZ1"
   }
  },
  {
   "cell_type": "code",
   "source": [
    "from typing import Tuple\n",
    "\n",
    "ATOL = 0.0001\n",
    "\n",
    "def theta123(alpha: float, axis: Tuple[float, float, float]):\n",
    "    \"\"\"\n",
    "    Gives the angles used in the Z-Y-Z decomposition of the Bloch sphere rotation\n",
    "    characterized by a rotation around `axis` of angle `alpha`.\n",
    "\n",
    "    Parameters:\n",
    "      alpha: angle of the Bloch sphere rotation\n",
    "      axis: _normalized_ axis of the Bloch sphere rotation\n",
    "\n",
    "    Returns:\n",
    "      a triple (theta1, theta2, theta3) corresponding to the decomposition of the\n",
    "      arbitrary Bloch sphere rotation into U = rz(theta1) ry(theta2) rz(theta3)\n",
    "      \n",
    "    \"\"\"\n",
    "\n",
    "    # CAUTION: there might be edge cases where this crashes.\n",
    "\n",
    "    nx, ny, nz = axis\n",
    "    assert abs(nx**2 + ny**2 + nz**2 - 1) < ATOL, \"Axis needs to be normalized\"\n",
    "\n",
    "    ta2 = math.tan(alpha / 2)\n",
    "    theta2 = 2 * math.acos(math.cos(alpha / 2) * math.sqrt(1 + (nz * ta2) ** 2))\n",
    "\n",
    "    p = 2 * math.atan(nz * ta2)\n",
    "    m = 2 * math.acos(ny * math.sin(alpha / 2) / math.sin(theta2 / 2))\n",
    "\n",
    "    theta1 = (p + m) / 2\n",
    "    theta3 = p - theta1\n",
    "\n",
    "    return (theta1, theta2, theta3)"
   ],
   "metadata": {
    "id": "w_WCrbsgUIQx",
    "ExecuteTime": {
     "end_time": "2024-03-08T10:29:01.553976Z",
     "start_time": "2024-03-08T10:29:01.540812Z"
    }
   },
   "execution_count": 60,
   "outputs": []
  },
  {
   "cell_type": "markdown",
   "source": [
    "Once we have our angles, we can implement the OpenSquirrel decomposition; we will name it the `ZYZDecomposer`. Implementation is done by inheriting from the `Decomposer` base class and defining the `decompose` method, which in turn expects a gate and returns a list of gates. This method is applied internally to all gates of the circuit. Since 2-qubit gates should be left as-is, there is an `isinstance` check, to skip those. Also note that the axis of a `BlochSphereRotation` in OpenSquirrel is always normalized internally, and the _angle_ should always be in the range $[-\\pi, \\pi]$.\n",
    "\n",
    "Here is what our final ZYZ decomposition looks like:"
   ],
   "metadata": {
    "id": "8Hq40VH_ITXw"
   }
  },
  {
   "cell_type": "code",
   "source": [
    "from opensquirrel.squirrel_ir import Gate, BlochSphereRotation\n",
    "from opensquirrel.replacer import Decomposer\n",
    "from opensquirrel.default_gates import rz, ry\n",
    "\n",
    "class ZYZDecomposer(Decomposer):\n",
    "    \n",
    "    def decompose(g: Gate) -> [Gate]:\n",
    "        if not isinstance(g, BlochSphereRotation):\n",
    "          return [g] # Do nothing.\n",
    "    \n",
    "        theta1, theta2, theta3 = theta123(g.angle, g.axis)\n",
    "    \n",
    "        z1 = rz(g.qubit, Float(theta1))\n",
    "        y = ry(g.qubit, Float(theta2))\n",
    "        z2 = rz(g.qubit, Float(theta3))\n",
    "    \n",
    "        # Note: written like this, the decomposition doesn't preserve the global phase, which is fine\n",
    "        # since the global phase is a physically irrelevant artifact of the mathematical\n",
    "        # model we use to describe the quantum system.\n",
    "    \n",
    "        # Should we want to preserve it, we would need to use a raw BlochSphereRotation, which would then\n",
    "        # be an anonymous gate in the resulting decomposed circuit:\n",
    "        # z2 = BlochSphereRotation(qubit=g.qubit, angle=theta3, axis=(0, 0, 1), phase = g.phase)\n",
    "    \n",
    "        return [z1, y, z2]"
   ],
   "metadata": {
    "id": "PRdKQosJIoSB",
    "ExecuteTime": {
     "end_time": "2024-03-08T10:29:06.474672Z",
     "start_time": "2024-03-08T10:29:06.467119Z"
    }
   },
   "execution_count": 61,
   "outputs": []
  },
  {
   "cell_type": "markdown",
   "source": [
    "Once we defined the decomposition function, we can apply it by passing our decomposer to the `decompose()` method of the circuit. The decomposition of every gate is checked, to see if it preserves the circuit semantics (_i.e._, the unitary matrix), so we can sleep on both ears knowing that our circuit/quantum state remains the same."
   ],
   "metadata": {
    "id": "pzWUmE6wJ5PF"
   }
  },
  {
   "cell_type": "code",
   "source": [
    "circuit_to_decompose = Circuit.from_string(\n",
    "    \"\"\"\n",
    "    version 3.0\n",
    "    \n",
    "    qubit[3] q\n",
    "    \n",
    "    h q[0]\n",
    "    \"\"\"\n",
    ")\n",
    "\n",
    "circuit_to_decompose.merge_single_qubit_gates()\n",
    "circuit_to_decompose.decompose(decomposer=ZYZDecomposer)\n",
    "circuit_to_decompose"
   ],
   "metadata": {
    "colab": {
     "base_uri": "https://localhost:8080/"
    },
    "id": "HsyvBbAvKJJ0",
    "outputId": "9738a81f-d149-41f1-abfb-deff29cbcb51",
    "ExecuteTime": {
     "end_time": "2024-03-08T10:29:08.939165Z",
     "start_time": "2024-03-08T10:29:08.917163Z"
    }
   },
   "execution_count": 62,
   "outputs": [
    {
     "data": {
      "text/plain": "version 3.0\n\nqubit[3] q\n\nrz q[0], 3.1415927\nry q[0], 1.5707963\nrz q[0], 0.0"
     },
     "execution_count": 62,
     "metadata": {},
     "output_type": "execute_result"
    }
   ]
  },
  {
   "cell_type": "markdown",
   "source": [
    "We get the expected result for the Hadamard gate: H = Y$^{1/2}$Z, one of the canonical decompositions of the Hadamard gate as described in the [Quantum Inspire knowledge base](https://www.quantum-inspire.com/kbase/hadamard/)."
   ],
   "metadata": {
    "collapsed": false
   }
  },
  {
   "cell_type": "markdown",
   "source": [
    "## Exporting a circuit\n",
    "\n",
    "As you have seen in the examples above, you can turn a circuit into a cQASM 3.0 string by simply using the `str` or `__repr__` methods. We are aiming to support the possibility to export to other languages as well, _e.g._, a OpenQASM 3.0 string, and frameworks, _e.g._, a Qiskit quantum circuit."
   ],
   "metadata": {
    "id": "NrDwe3WCne_3"
   }
  }
 ]
}
