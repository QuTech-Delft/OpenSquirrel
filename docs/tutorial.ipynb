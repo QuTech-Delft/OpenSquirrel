{
 "nbformat": 4,
 "nbformat_minor": 0,
 "metadata": {
  "colab": {
   "provenance": []
  },
  "kernelspec": {
   "name": "python3",
   "display_name": "Python 3"
  },
  "language_info": {
   "name": "python"
  }
 },
 "cells": [
  {
   "cell_type": "markdown",
   "source": [
    "# Tutorial\n",
    "\n",
    "> **_NOTE:_** This tutorial is based on OpenSquirrel version 0.0.6, so make sure it is up-to-date.\n",
    "\n",
    "### Why should I use it?\n",
    "\n",
    "It has a user-friendly interface, is easy to extend with your own custom code, and is well tested and reliable.\n",
    "\n",
    "As a quantum circuits compiler, it is fully aware of the semantics of each gate that you use and arbitrary quantum gates can be constructed.\n",
    "\n",
    "It understands the quantum programming language cQASM 3.0 and will support additional quantum programming languages in the future.\n",
    "\n",
    "It is being developed in modern Python and follows best practices.\n",
    "\n",
    "### Who is maintaining it?\n",
    "\n",
    "Engineers from QuTech (TNO/TU Delft) for Quantum Inspire 2.0; in particular,\n",
    "\n",
    "- Pablo Le Henaff p.lehenaff@tudelft.nl\n",
    "\n",
    "- Chris Elenbaas chris.elenbaas@tno.nl\n",
    "\n",
    "- Roberto Turrado r.turradocamblor@tudelft.nl\n",
    "\n",
    "### Where can I find the source code?\n",
    "\n",
    "OpenSquirrel is open source and is hosted through GitHub:\n",
    "https://github.com/QuTech-Delft/OpenSquirrel\n",
    "\n"
   ],
   "metadata": {
    "id": "eGWItVPT3Ell"
   }
  },
  {
   "cell_type": "markdown",
   "source": [
    "## Installation\n",
    "\n",
    "... is as easy as ABC:"
   ],
   "metadata": {
    "id": "t8yyUlX-4TPX"
   }
  },
  {
   "cell_type": "code",
   "source": [
    "! pip install opensquirrel==0.0.6\n",
    "\n",
    "import opensquirrel"
   ],
   "metadata": {
    "colab": {
     "base_uri": "https://localhost:8080/"
    },
    "id": "3U8xFfy24WFu",
    "outputId": "90cb4b15-f5c2-49b3-84b6-74b25831d005",
    "is_executing": true
   },
   "execution_count": null,
   "outputs": []
  },
  {
   "cell_type": "markdown",
   "source": [
    "## Creation of a circuit\n",
    "\n",
    "OpenSquirrel's entrypoint is the `Circuit` class, which represents a quantum circuit. Currently, you can create a `Circuit` instance in two different ways:\n",
    " - form a string written in cQASM 3.0, or;\n",
    " - by using the _circuit builder_.\n",
    "\n",
    "### From a cQASM 3.0 string"
   ],
   "metadata": {
    "id": "StoCwwPW4rpn"
   }
  },
  {
   "cell_type": "code",
   "source": [
    "my_circuit = opensquirrel.Circuit.from_string(\"\"\"\n",
    "version 3.0\n",
    "\n",
    "qubit[2] q\n",
    "h q[0]; cnot q[0], q[1] // Create a Bell pair\n",
    "\"\"\")\n",
    "\n",
    "my_circuit"
   ],
   "metadata": {
    "colab": {
     "base_uri": "https://localhost:8080/"
    },
    "id": "tmxqGpjp5DCa",
    "outputId": "467c2871-9a5e-4315-8c75-d1738e83b60b"
   },
   "execution_count": null,
   "outputs": [
    {
     "output_type": "execute_result",
     "data": {
      "text/plain": [
       "version 3.0\n",
       "\n",
       "qubit[2] q\n",
       "\n",
       "h q[0]\n",
       "cnot q[0], q[1]"
      ]
     },
     "metadata": {},
     "execution_count": 3
    }
   ]
  },
  {
   "cell_type": "markdown",
   "source": [
    ">__Note__: Currently OpenSquirrel only supports a limited version of cQASM 3.0. This is due to the fact that the latter is still under development. When new features are introduced to the language, OpenSquirrel will follow in due course. For example, at the time of writing, OpenSquirrel only supports the declaration of a single qubit register per quantum program, whereas the language already allows for the declaration of multiple qubit registers within the global scope of the quantum program.  Also unsupported are control flow, arbitrary types, _etcetera_. Both the language and OpenSquirrel are under continuous development, yet the language features that are supported by OpenSquirrel function properly.\n"
   ],
   "metadata": {
    "id": "sF1iOmO97vL2"
   }
  },
  {
   "cell_type": "markdown",
   "source": [
    "### Using the circuit builder\n",
    "\n",
    "For creation of a circuit, directly through Python, you can use the `CircuitBuilder` class, accordingly:"
   ],
   "metadata": {
    "id": "Ssk8G7HB5VJV"
   }
  },
  {
   "cell_type": "code",
   "source": [
    "# Create a Bell pair circuit using the OpenSquirrel circuit builder.\n",
    "my_circuit_from_builder = opensquirrel.CircuitBuilder(number_of_qubits=2).h(opensquirrel.squirrel_ir.Qubit(0)).cnot(opensquirrel.squirrel_ir.Qubit(0), opensquirrel.squirrel_ir.Qubit(1)).to_circuit()\n",
    "\n",
    "my_circuit_from_builder"
   ],
   "metadata": {
    "colab": {
     "base_uri": "https://localhost:8080/"
    },
    "id": "nAS_UZv55bO5",
    "outputId": "fb0b95de-bb29-41be-99b6-aaf5278b83c6"
   },
   "execution_count": null,
   "outputs": [
    {
     "output_type": "execute_result",
     "data": {
      "text/plain": [
       "version 3.0\n",
       "\n",
       "qubit[2] q\n",
       "\n",
       "h q[0]\n",
       "cnot q[0], q[1]"
      ]
     },
     "metadata": {},
     "execution_count": 4
    }
   ]
  },
  {
   "cell_type": "markdown",
   "source": [
    "At this point, the code becomes more straightforward if we make some _imports_ beforehand:"
   ],
   "metadata": {
    "id": "19gBtDM25wsr"
   }
  },
  {
   "cell_type": "code",
   "source": [
    "import opensquirrel as os\n",
    "from opensquirrel.squirrel_ir import Qubit, Int, Float\n",
    "\n",
    "my_circuit_from_builder_with_imports = os.CircuitBuilder(number_of_qubits=2).ry(Qubit(0), Float(0.23)).cnot(Qubit(0), Qubit(1)).to_circuit()\n",
    "my_circuit_from_builder_with_imports"
   ],
   "metadata": {
    "colab": {
     "base_uri": "https://localhost:8080/"
    },
    "id": "_TZ0JF6152ri",
    "outputId": "11d6521b-f936-4f6f-c106-e472a845a647"
   },
   "execution_count": null,
   "outputs": [
    {
     "output_type": "execute_result",
     "data": {
      "text/plain": [
       "version 3.0\n",
       "\n",
       "qubit[2] q\n",
       "\n",
       "ry q[0], 0.23\n",
       "cnot q[0], q[1]"
      ]
     },
     "metadata": {},
     "execution_count": 5
    }
   ]
  },
  {
   "cell_type": "markdown",
   "source": [
    "> __Note__: https://github.com/QuTech-Delft/OpenSquirrel/issues/87"
   ],
   "metadata": {
    "id": "4It53rG68D9g"
   }
  },
  {
   "cell_type": "markdown",
   "source": [
    "You can naturally use the functionalities available in Python to create your circuit:"
   ],
   "metadata": {
    "id": "Po7uNS2h6td6"
   }
  },
  {
   "cell_type": "code",
   "source": [
    "builder = os.CircuitBuilder(number_of_qubits=10)\n",
    "for i in range(0, 10, 2):\n",
    "  builder.h(Qubit(i))\n",
    "\n",
    "builder.to_circuit()"
   ],
   "metadata": {
    "colab": {
     "base_uri": "https://localhost:8080/"
    },
    "id": "8OJM5wML6xX1",
    "outputId": "5b39060a-0e42-458a-e178-1a15dacc8213"
   },
   "execution_count": null,
   "outputs": [
    {
     "output_type": "execute_result",
     "data": {
      "text/plain": [
       "version 3.0\n",
       "\n",
       "qubit[10] q\n",
       "\n",
       "h q[0]\n",
       "h q[2]\n",
       "h q[4]\n",
       "h q[6]\n",
       "h q[8]"
      ]
     },
     "metadata": {},
     "execution_count": 6
    }
   ]
  },
  {
   "cell_type": "markdown",
   "source": [
    "For instance, you can generate a quantum fourier transform (QFT) circuit as follows:"
   ],
   "metadata": {
    "id": "_hzJOEkk7KXa"
   }
  },
  {
   "cell_type": "code",
   "source": [
    "number_of_qubits = 5\n",
    "qft = os.CircuitBuilder(number_of_qubits=number_of_qubits)\n",
    "for i in range(number_of_qubits):\n",
    "  qft.h(Qubit(i))\n",
    "  for c in range(i + 1, number_of_qubits):\n",
    "    qft.crk(Qubit(c), Qubit(i), Int(c-i+1))\n",
    "\n",
    "    # FIXME: this is not yet supported, see https://github.com/QuTech-Delft/OpenSquirrel/issues/82\n",
    "    # qft.crk(control=Qubit(c), target=Qubit(i), k=Int(c-i+1))\n",
    "\n",
    "qft.to_circuit()"
   ],
   "metadata": {
    "colab": {
     "base_uri": "https://localhost:8080/"
    },
    "id": "Pr8C34bj7RPI",
    "outputId": "bfbf7152-4964-4aef-d41f-3095a9645e83"
   },
   "execution_count": null,
   "outputs": [
    {
     "output_type": "execute_result",
     "data": {
      "text/plain": [
       "version 3.0\n",
       "\n",
       "qubit[5] q\n",
       "\n",
       "h q[0]\n",
       "crk q[1], q[0], 2\n",
       "crk q[2], q[0], 3\n",
       "crk q[3], q[0], 4\n",
       "crk q[4], q[0], 5\n",
       "h q[1]\n",
       "crk q[2], q[1], 2\n",
       "crk q[3], q[1], 3\n",
       "crk q[4], q[1], 4\n",
       "h q[2]\n",
       "crk q[3], q[2], 2\n",
       "crk q[4], q[2], 3\n",
       "h q[3]\n",
       "crk q[4], q[3], 2\n",
       "h q[4]"
      ]
     },
     "metadata": {},
     "execution_count": 7
    }
   ]
  },
  {
   "cell_type": "markdown",
   "source": [
    "## Strong types"
   ],
   "metadata": {
    "id": "EpIsNqaj9GKr"
   }
  },
  {
   "cell_type": "markdown",
   "source": [
    "As you can see, gates need to be passed _strong types_. For instance, you cannot do:"
   ],
   "metadata": {
    "id": "VOoDWUzJ84HE"
   }
  },
  {
   "cell_type": "code",
   "source": [
    "try:\n",
    "  os.CircuitBuilder(number_of_qubits=2).cnot(Qubit(0), Int(3))\n",
    "except Exception as e:\n",
    "  print(e)"
   ],
   "metadata": {
    "colab": {
     "base_uri": "https://localhost:8080/"
    },
    "id": "AAx99nBT882r",
    "outputId": "6f40dee0-a42a-43a1-e0e1-dd36f82f17f3"
   },
   "execution_count": null,
   "outputs": [
    {
     "output_type": "stream",
     "name": "stdout",
     "text": [
      "Wrong argument type for gate `cnot`, got <class 'opensquirrel.squirrel_ir.Int'> but expected <class 'opensquirrel.squirrel_ir.Qubit'>\n"
     ]
    }
   ]
  },
  {
   "cell_type": "markdown",
   "source": [
    "The same goes for string-based circuits in cQASM 3.0:"
   ],
   "metadata": {
    "id": "BBkBWcXi9KNI"
   }
  },
  {
   "cell_type": "code",
   "source": [
    "try:\n",
    "  os.Circuit.from_string(\"\"\"\n",
    "    version 3.0\n",
    "    qubit[2] q\n",
    "\n",
    "    cnot q[0], 3\n",
    "    \"\"\")\n",
    "except Exception as e:\n",
    "  print(e)"
   ],
   "metadata": {
    "colab": {
     "base_uri": "https://localhost:8080/"
    },
    "id": "65gyfSMC9NzU",
    "outputId": "14446085-0ba7-46f8-8de3-ca677b2a794c"
   },
   "execution_count": null,
   "outputs": [
    {
     "output_type": "stream",
     "name": "stdout",
     "text": [
      "Argument #1 passed to gate `cnot` is of type <class 'opensquirrel.squirrel_ir.Int'> but should be <class 'opensquirrel.squirrel_ir.Qubit'>\n"
     ]
    }
   ]
  },
  {
   "cell_type": "markdown",
   "source": [
    "By default OpenSquirrel does not use LibQASM (the cQASM parser library), but will do so soon. You can enable this, which changes the error message:"
   ],
   "metadata": {
    "id": "70BczmiH9XJz"
   }
  },
  {
   "cell_type": "code",
   "source": [
    "try:\n",
    "  os.Circuit.from_string(\"\"\"\n",
    "    version 3.0\n",
    "    qubit[2] q\n",
    "\n",
    "    cnot q[0], 3\n",
    "    \"\"\", use_libqasm=True)\n",
    "except Exception as e:\n",
    "  print(e)"
   ],
   "metadata": {
    "colab": {
     "base_uri": "https://localhost:8080/"
    },
    "id": "9o-jgu7s9dBm",
    "outputId": "45860ffd-b407-4341-e235-a2561477783a"
   },
   "execution_count": null,
   "outputs": [
    {
     "output_type": "stream",
     "name": "stdout",
     "text": [
      "Parsing error: Error at <unknown>:5:5..9: failed to resolve overload for cnot with argument pack (qubit, int)\n"
     ]
    }
   ]
  },
  {
   "cell_type": "markdown",
   "source": [
    "## Turning a circuit object into a string\n",
    "\n",
    "As you have seen in the examples above, you can turn a `Circuit` object into a cQASM 3.0 string by simply using the `str` or `__repr__` methods. We are aiming to support export to more languages, _e.g._, OpenQASM 3.0 string, and frameworks, _e.g._, a Qiskit quantum circuit, in the future."
   ],
   "metadata": {
    "id": "XZitS5zG9rZl"
   }
  },
  {
   "cell_type": "markdown",
   "source": [
    "# Modifying a Circuit object"
   ],
   "metadata": {
    "id": "oUHrlzmF-A7U"
   }
  },
  {
   "cell_type": "markdown",
   "source": [
    "# Merging gates\n",
    "\n",
    "OpenSquirrel can merge consecutive quantum gates. For now, this is only supported for single-qubit gates. The resulting gate is labeled as an \"anonymous gate\". Those gates have no name, so you get a placeholder when you try to print them."
   ],
   "metadata": {
    "id": "O__7dQl39mLN"
   }
  },
  {
   "cell_type": "code",
   "source": [
    "import math\n",
    "\n",
    "builder = os.CircuitBuilder(number_of_qubits=1)\n",
    "for i in range(16):\n",
    "  builder.rx(Qubit(0), Float(math.pi / 16))\n",
    "\n",
    "circuit = builder.to_circuit()\n",
    "\n",
    "# single qubit gates fusion\n",
    "circuit.merge_single_qubit_gates()\n",
    "circuit"
   ],
   "metadata": {
    "colab": {
     "base_uri": "https://localhost:8080/"
    },
    "id": "n-gjYvDs-Mkk",
    "outputId": "9405bc6e-f311-42b2-f123-8819d7392188"
   },
   "execution_count": null,
   "outputs": [
    {
     "output_type": "execute_result",
     "data": {
      "text/plain": [
       "version 3.0\n",
       "\n",
       "qubit[1] q\n",
       "\n",
       "<anonymous-gate>"
      ]
     },
     "metadata": {},
     "execution_count": 11
    }
   ]
  },
  {
   "cell_type": "markdown",
   "source": [
    "You can inspect what the gate has become:"
   ],
   "metadata": {
    "id": "sB29oZckHlI7"
   }
  },
  {
   "cell_type": "code",
   "source": [
    "circuit.squirrel_ir.statements[0]"
   ],
   "metadata": {
    "colab": {
     "base_uri": "https://localhost:8080/"
    },
    "id": "JH2M0jWdHoLW",
    "outputId": "a4671b9c-0a70-4f6e-9362-8ca3bddd7349"
   },
   "execution_count": null,
   "outputs": [
    {
     "output_type": "execute_result",
     "data": {
      "text/plain": [
       "BlochSphereRotation(Qubit[0], axis=[1. 0. 0.], angle=3.141592653589795, phase=0.0)"
      ]
     },
     "metadata": {},
     "execution_count": 12
    }
   ]
  },
  {
   "cell_type": "markdown",
   "source": [
    "In the above example, OpenSquirrel has merged all of the X-rotations together. Yet, for now, it does not recognize it anymore as being an X-rotation; we may want to implement this at a late stage. The issue is that the gate set is not fixed, since you can define your own gates and add them to the set."
   ],
   "metadata": {
    "id": "PUzfod3wHwcu"
   }
  },
  {
   "cell_type": "markdown",
   "source": [
    "## Defining your own quantum gates\n",
    "\n",
    "OpenSquirrel accepts any new gate and requires the semantic of each gate. Creating new gates is done using Python functions, decorators, and one of the following gate semantic classes: `BlochSphereRotation`, `ControlledGate`, or `MatrixGate`.\n",
    "\n",
    "- The `BlochSphereRotation` class is for every single qubit gate. It accepts a qubit, an axis, an angle, and a phase as arguments. Below is shown how the X gate is defined in the default gate set of OpenSquirrel:\n",
    "\n",
    "```python\n",
    "@named_gate\n",
    "def x(q: Qubit) -> Gate:\n",
    "    return BlochSphereRotation(qubit=q, axis=(1, 0, 0), angle=math.pi, phase=math.pi / 2)\n",
    "```\n",
    "\n",
    "Notice the `@named_gate` decorator. This _tells_ OpenSquirrel that the function defines a gate and that it should, therefore, have all the nice properties OpenSquirrel expects of it. When you define a gate as such, it also creates a gate in the accompanying cQASM 3.0 parser taking the same arguments as the Python function.\n",
    "\n",
    "- The `ControlledGate` class is for multiple qubit gates that comprise controlled operations. For instance, the CNOT gate is defined as follows:\n",
    "\n",
    "```python\n",
    "@named_gate\n",
    "def cnot(control: Qubit, target: Qubit) -> Gate:\n",
    "    return ControlledGate(control, x(target))\n",
    "```\n",
    "\n",
    "- The `MatrixGate` class is for multiple qubit gates that are not controlled operations, and are defined in the generic form of a matrix:\n",
    "\n",
    "```python\n",
    "@named_gate\n",
    "def swap(q1: Qubit, q2: Qubit) -> Gate:\n",
    "    return MatrixGate(\n",
    "        np.array(\n",
    "            [\n",
    "                [1, 0, 0, 0],\n",
    "                [0, 0, 1, 0],\n",
    "                [0, 1, 0, 0],\n",
    "                [0, 0, 0, 1],\n",
    "            ]\n",
    "        ),\n",
    "        [q1, q2],\n",
    "    )\n",
    "```"
   ],
   "metadata": {
    "id": "IZWKGM6CIA_3"
   }
  },
  {
   "cell_type": "markdown",
   "source": [
    "Once you have defined your new quantum gates, you can pass them as a custom `gate_set` argument to the `Circuit` object. Here is how to add, _e.g._, the Sycamore gate (labeled as `syc`) to OpenSquirrel's default gate set:"
   ],
   "metadata": {
    "id": "RbHgbA4fK-Gz"
   }
  },
  {
   "cell_type": "code",
   "source": [
    "import numpy as np\n",
    "import cmath\n",
    "from opensquirrel.squirrel_ir import named_gate\n",
    "\n",
    "@named_gate\n",
    "def syc(q1: Qubit, q2: Qubit):\n",
    "  return opensquirrel.squirrel_ir.MatrixGate(matrix=np.array(\n",
    "      [[1, 0, 0, 0],\n",
    "      [0, 0, -1j, 0],\n",
    "      [0, -1j, 0, 0],\n",
    "      [0, 0, 0, cmath.rect(1, - math.pi / 6)]]), operands=[q1, q2])\n",
    "\n",
    "my_extended_gate_set = os.default_gates.default_gate_set.copy()\n",
    "my_extended_gate_set.append(syc)\n",
    "\n",
    "my_sycamore_circuit = os.Circuit.from_string(\"\"\"\n",
    "version 3.0\n",
    "qubit[3] q\n",
    "\n",
    "h q[1]\n",
    "syc q[1], q[2]\n",
    "cnot q[0], q[1]\n",
    "\"\"\", gate_set=my_extended_gate_set)\n",
    "\n",
    "my_sycamore_circuit.test_get_circuit_matrix()"
   ],
   "metadata": {
    "colab": {
     "base_uri": "https://localhost:8080/"
    },
    "id": "V4P_8wbNLMOs",
    "outputId": "5254cc4f-25bd-463a-fb3d-7a692c6e7037"
   },
   "execution_count": null,
   "outputs": [
    {
     "output_type": "execute_result",
     "data": {
      "text/plain": [
       "array([[ 7.07106781e-01+1.79345371e-17j,  0.00000000e+00+0.00000000e+00j,\n",
       "         7.07106781e-01-4.32978028e-17j,  0.00000000e+00+0.00000000e+00j,\n",
       "         0.00000000e+00+0.00000000e+00j,  0.00000000e+00+0.00000000e+00j,\n",
       "         0.00000000e+00+0.00000000e+00j,  0.00000000e+00+0.00000000e+00j],\n",
       "       [ 0.00000000e+00+0.00000000e+00j,  1.55305211e-33+4.32978028e-17j,\n",
       "         0.00000000e+00+0.00000000e+00j,  5.30245156e-33+4.32978028e-17j,\n",
       "         0.00000000e+00+0.00000000e+00j, -2.53632657e-17-7.07106781e-01j,\n",
       "         0.00000000e+00+0.00000000e+00j, -8.65956056e-17-7.07106781e-01j],\n",
       "       [ 0.00000000e+00+0.00000000e+00j,  0.00000000e+00+0.00000000e+00j,\n",
       "         0.00000000e+00+0.00000000e+00j,  0.00000000e+00+0.00000000e+00j,\n",
       "         1.79345371e-17-7.07106781e-01j,  0.00000000e+00+0.00000000e+00j,\n",
       "        -4.32978028e-17-7.07106781e-01j,  0.00000000e+00+0.00000000e+00j],\n",
       "       [ 0.00000000e+00+0.00000000e+00j,  7.07106781e-01-2.53632657e-17j,\n",
       "         0.00000000e+00+0.00000000e+00j,  7.07106781e-01-8.65956056e-17j,\n",
       "         0.00000000e+00+0.00000000e+00j,  4.32978028e-17-1.55305211e-33j,\n",
       "         0.00000000e+00+0.00000000e+00j,  4.32978028e-17-5.30245156e-33j],\n",
       "       [-4.32978028e-17-7.07106781e-01j,  0.00000000e+00+0.00000000e+00j,\n",
       "         1.04530143e-16+7.07106781e-01j,  0.00000000e+00+0.00000000e+00j,\n",
       "         0.00000000e+00+0.00000000e+00j,  0.00000000e+00+0.00000000e+00j,\n",
       "         0.00000000e+00+0.00000000e+00j,  0.00000000e+00+0.00000000e+00j],\n",
       "       [ 0.00000000e+00+0.00000000e+00j,  4.32978028e-17-5.30245156e-33j,\n",
       "         0.00000000e+00+0.00000000e+00j, -4.32978028e-17+9.05185102e-33j,\n",
       "         0.00000000e+00+0.00000000e+00j,  6.12372436e-01-3.53553391e-01j,\n",
       "         0.00000000e+00+0.00000000e+00j, -6.12372436e-01+3.53553391e-01j],\n",
       "       [ 0.00000000e+00+0.00000000e+00j,  0.00000000e+00+0.00000000e+00j,\n",
       "         0.00000000e+00+0.00000000e+00j,  0.00000000e+00+0.00000000e+00j,\n",
       "         6.12372436e-01-3.53553391e-01j,  0.00000000e+00+0.00000000e+00j,\n",
       "        -6.12372436e-01+3.53553391e-01j,  0.00000000e+00+0.00000000e+00j],\n",
       "       [ 0.00000000e+00+0.00000000e+00j, -8.65956056e-17-7.07106781e-01j,\n",
       "         0.00000000e+00+0.00000000e+00j,  1.47827946e-16+7.07106781e-01j,\n",
       "         0.00000000e+00+0.00000000e+00j,  2.16489014e-17+3.74969972e-17j,\n",
       "         0.00000000e+00+0.00000000e+00j, -2.16489014e-17-3.74969972e-17j]])"
      ]
     },
     "metadata": {},
     "execution_count": 13
    }
   ]
  },
  {
   "cell_type": "markdown",
   "source": [
    "Notice that we used `test_get_circuit_matrix` here to obtain the unitary matrix corresponding to the Circuit object."
   ],
   "metadata": {
    "id": "wQD16hfJMnNG"
   }
  },
  {
   "cell_type": "markdown",
   "source": [
    "## Gate decompositions\n",
    "\n",
    "OpenSquirrel can decompose quantum gates in the Circuit object given a custom decomposition. The first kind of decomposition is when you want to replace a given gate, like the `cnot` gate, with a fixed list of gates. It is commonly known that `cnot` can be decomposed as H-CZ-H. This decomposition is demonstrated below using a _Python lambda function_ which shares the same arguments as the gate that is decomposed:"
   ],
   "metadata": {
    "id": "E0jS8Nb0JVj3"
   }
  },
  {
   "cell_type": "code",
   "source": [
    "from opensquirrel.default_gates import cnot, h, cz\n",
    "\n",
    "circuit = os.Circuit.from_string(\"\"\"\n",
    "version 3.0\n",
    "qubit[3] q\n",
    "\n",
    "x q[0:2]          // Note how the SGMQ notation is expanded in the OpenSquirrel Circuit object.\n",
    "cnot q[0], q[1]\n",
    "ry q[2], 6.78\n",
    "\"\"\")\n",
    "\n",
    "circuit.replace(cnot,\n",
    "                lambda control, target:\n",
    "                 [\n",
    "                     h(target),\n",
    "                     cz(control, target),\n",
    "                     h(target),\n",
    "                     ]\n",
    "                )\n",
    "circuit"
   ],
   "metadata": {
    "colab": {
     "base_uri": "https://localhost:8080/"
    },
    "id": "P7KolwXzJwq7",
    "outputId": "c583da3f-8135-4074-ab9d-e5476a84590a"
   },
   "execution_count": null,
   "outputs": [
    {
     "output_type": "execute_result",
     "data": {
      "text/plain": [
       "version 3.0\n",
       "\n",
       "qubit[3] q\n",
       "\n",
       "x q[0]\n",
       "x q[1]\n",
       "x q[2]\n",
       "h q[1]\n",
       "cz q[0], q[1]\n",
       "h q[1]\n",
       "ry q[2], 6.78"
      ]
     },
     "metadata": {},
     "execution_count": 14
    }
   ]
  },
  {
   "cell_type": "markdown",
   "source": [
    "OpenSquirrel will check whether the provided decomposition is correct. For instance, an exception is thrown if we forget the final hadamard gate in our custom-made decomposition:"
   ],
   "metadata": {
    "id": "NallB8_hKTp3"
   }
  },
  {
   "cell_type": "code",
   "source": [
    "circuit = os.Circuit.from_string(\"\"\"\n",
    "version 3.0\n",
    "qubit[3] q\n",
    "\n",
    "x q[0:2]\n",
    "cnot q[0], q[1]\n",
    "ry q[2], 6.78\n",
    "\"\"\")\n",
    "\n",
    "try:\n",
    "  circuit.replace(cnot,\n",
    "                  lambda control, target:\n",
    "                   [\n",
    "                       h(target),\n",
    "                       cz(control, target),\n",
    "                       ]\n",
    "                  )\n",
    "except Exception as e:\n",
    "  print(e)"
   ],
   "metadata": {
    "colab": {
     "base_uri": "https://localhost:8080/"
    },
    "id": "eEbj3aGhKbOn",
    "outputId": "33537ff4-502e-44c1-b8ef-f7535735255f"
   },
   "execution_count": null,
   "outputs": [
    {
     "output_type": "stream",
     "name": "stdout",
     "text": [
      "Replacement for gate cnot does not preserve the quantum state\n"
     ]
    }
   ]
  },
  {
   "cell_type": "markdown",
   "source": [
    "On top of decompositions of a single gate, OpenSquirrel can decompose gates __based on their semantics__, regardless of name. To give an example, let us decompose an arbitrary single qubit gate into a product of axis rotations Z-Y-Z.\n",
    "\n",
    "First, we need to figure out mathmatics behind this decomposition. Let us use quaternions and Sympy for this, it will make it a lot easier.\n",
    "\n",
    "A 3D rotation of angle $\\alpha$ about the (normalized) axis $n=\\left(n_x, n_y, n_z \\right)$ can be represented by the quaternion $q = \\cos\\left(\\alpha/2\\right) + \\sin\\left(\\alpha/2\\right) \\left( n_x i + n_y j + n_z k \\right)$.\n",
    "\n",
    "Since composition of rotations is equivalent of the product of their quaternions, we have to find angles $\\theta_1$, $\\theta_2$ and $\\theta_3$ such that\n",
    "\n",
    "$$\n",
    "q =\n",
    "\\left[ \\cos\\left(\\frac{\\theta_1}{2}\\right) + k \\sin\\left(\\frac{\\theta_1}{2}\\right) \\right]\n",
    "\\left[ \\cos\\left(\\frac{\\theta_2}{2}\\right) + j \\sin\\left(\\frac{\\theta_2}{2}\\right) \\right]\n",
    "\\left[ \\cos\\left(\\frac{\\theta_3}{2}\\right) + k \\sin\\left(\\frac{\\theta_3}{2}\\right) \\right]\\ .\n",
    "$$\n",
    "\n",
    "Let us expand this last term with Sympy:"
   ],
   "metadata": {
    "id": "QPsM_6FvNa-M"
   }
  },
  {
   "cell_type": "code",
   "source": [
    "import sympy as sp\n",
    "\n",
    "theta1, theta2, theta3 = sp.symbols(\"theta_1 theta_2 theta_3\")\n",
    "\n",
    "z1 = sp.algebras.Quaternion.from_axis_angle((0, 0, 1), theta1)\n",
    "y = sp.algebras.Quaternion.from_axis_angle((0, 1, 0), theta2)\n",
    "z2 = sp.algebras.Quaternion.from_axis_angle((0, 0, 1), theta3)\n",
    "\n",
    "rhs = sp.trigsimp(sp.expand(z1 * y * z2))\n",
    "rhs"
   ],
   "metadata": {
    "colab": {
     "base_uri": "https://localhost:8080/",
     "height": 58
    },
    "id": "HBDxPUktV4Hh",
    "outputId": "f45f7581-90d2-4011-8f69-a9b538232818"
   },
   "execution_count": null,
   "outputs": [
    {
     "output_type": "execute_result",
     "data": {
      "text/plain": [
       "cos(theta_2/2)*cos((theta_1 + theta_3)/2) + (-sin(theta_2/2)*sin((theta_1 - theta_3)/2))*i + sin(theta_2/2)*cos((theta_1 - theta_3)/2)*j + sin((theta_1 + theta_3)/2)*cos(theta_2/2)*k"
      ],
      "text/latex": "$\\displaystyle \\cos{\\left(\\frac{\\theta_{2}}{2} \\right)} \\cos{\\left(\\frac{\\theta_{1} + \\theta_{3}}{2} \\right)} + - \\sin{\\left(\\frac{\\theta_{2}}{2} \\right)} \\sin{\\left(\\frac{\\theta_{1} - \\theta_{3}}{2} \\right)} i + \\sin{\\left(\\frac{\\theta_{2}}{2} \\right)} \\cos{\\left(\\frac{\\theta_{1} - \\theta_{3}}{2} \\right)} j + \\sin{\\left(\\frac{\\theta_{1} + \\theta_{3}}{2} \\right)} \\cos{\\left(\\frac{\\theta_{2}}{2} \\right)} k$"
     },
     "metadata": {},
     "execution_count": 16
    }
   ]
  },
  {
   "cell_type": "markdown",
   "source": [
    "Let us change variables and define $p\\equiv\\theta_1 + \\theta_3$ and $m\\equiv\\theta_1 - \\theta_3$."
   ],
   "metadata": {
    "id": "OKso2MAIQ4wD"
   }
  },
  {
   "cell_type": "code",
   "source": [
    "p, m = sp.symbols(\"p m\")\n",
    "\n",
    "rhs_simplified = rhs.subs({\n",
    "    theta1 + theta3: p,\n",
    "    theta1 - theta3: m\n",
    "})\n",
    "\n",
    "rhs_simplified"
   ],
   "metadata": {
    "colab": {
     "base_uri": "https://localhost:8080/",
     "height": 58
    },
    "id": "trzm7KB-IbJZ",
    "outputId": "1fd23699-f820-4447-97ed-b6f95e255901"
   },
   "execution_count": null,
   "outputs": [
    {
     "output_type": "execute_result",
     "data": {
      "text/plain": [
       "cos(p/2)*cos(theta_2/2) + (-sin(m/2)*sin(theta_2/2))*i + sin(theta_2/2)*cos(m/2)*j + sin(p/2)*cos(theta_2/2)*k"
      ],
      "text/latex": "$\\displaystyle \\cos{\\left(\\frac{p}{2} \\right)} \\cos{\\left(\\frac{\\theta_{2}}{2} \\right)} + - \\sin{\\left(\\frac{m}{2} \\right)} \\sin{\\left(\\frac{\\theta_{2}}{2} \\right)} i + \\sin{\\left(\\frac{\\theta_{2}}{2} \\right)} \\cos{\\left(\\frac{m}{2} \\right)} j + \\sin{\\left(\\frac{p}{2} \\right)} \\cos{\\left(\\frac{\\theta_{2}}{2} \\right)} k$"
     },
     "metadata": {},
     "execution_count": 17
    }
   ]
  },
  {
   "cell_type": "markdown",
   "source": [
    "The original rotation's quaternion $q$ can be defined in Sympy accordingly:"
   ],
   "metadata": {
    "id": "F5la6u2D9VBw"
   }
  },
  {
   "cell_type": "code",
   "source": [
    "alpha, nx, ny, nz = sp.symbols(\"alpha n_x n_y n_z\")\n",
    "\n",
    "q = sp.algebras.Quaternion.from_axis_angle((nx, ny, nz), alpha).subs({\n",
    "    nx**2 + ny**2 + nz**2: 1  # We assume the axis is normalized.\n",
    "})\n",
    "q"
   ],
   "metadata": {
    "id": "c7uAHXP8YQYl",
    "colab": {
     "base_uri": "https://localhost:8080/",
     "height": 48
    },
    "outputId": "ca03e7e8-98aa-4fce-b13a-93170e655fb6"
   },
   "execution_count": null,
   "outputs": [
    {
     "output_type": "execute_result",
     "data": {
      "text/plain": [
       "cos(alpha/2) + n_x*sin(alpha/2)*i + n_y*sin(alpha/2)*j + n_z*sin(alpha/2)*k"
      ],
      "text/latex": "$\\displaystyle \\cos{\\left(\\frac{\\alpha}{2} \\right)} + n_{x} \\sin{\\left(\\frac{\\alpha}{2} \\right)} i + n_{y} \\sin{\\left(\\frac{\\alpha}{2} \\right)} j + n_{z} \\sin{\\left(\\frac{\\alpha}{2} \\right)} k$"
     },
     "metadata": {},
     "execution_count": 18
    }
   ]
  },
  {
   "cell_type": "markdown",
   "source": [
    "We get the following system of equations, where the unknowns are $p$, $m$, and $\\theta_2$:"
   ],
   "metadata": {
    "id": "XjcQcczO28_a"
   }
  },
  {
   "cell_type": "code",
   "source": [
    "from IPython.display import display, Math\n",
    "\n",
    "display(\n",
    "    sp.Eq(rhs_simplified.a, q.a),\n",
    "    sp.Eq(rhs_simplified.b, q.b),\n",
    "    sp.Eq(rhs_simplified.c, q.c),\n",
    "    sp.Eq(rhs_simplified.d, q.d)\n",
    "    )\n"
   ],
   "metadata": {
    "colab": {
     "base_uri": "https://localhost:8080/",
     "height": 180
    },
    "id": "NIPpcbgG2FFc",
    "outputId": "b00a9ad2-4391-4bcb-b6ac-96c74807852f"
   },
   "execution_count": null,
   "outputs": [
    {
     "output_type": "display_data",
     "data": {
      "text/plain": [
       "Eq(cos(p/2)*cos(theta_2/2), cos(alpha/2))"
      ],
      "text/latex": "$\\displaystyle \\cos{\\left(\\frac{p}{2} \\right)} \\cos{\\left(\\frac{\\theta_{2}}{2} \\right)} = \\cos{\\left(\\frac{\\alpha}{2} \\right)}$"
     },
     "metadata": {}
    },
    {
     "output_type": "display_data",
     "data": {
      "text/plain": [
       "Eq(-sin(m/2)*sin(theta_2/2), n_x*sin(alpha/2))"
      ],
      "text/latex": "$\\displaystyle - \\sin{\\left(\\frac{m}{2} \\right)} \\sin{\\left(\\frac{\\theta_{2}}{2} \\right)} = n_{x} \\sin{\\left(\\frac{\\alpha}{2} \\right)}$"
     },
     "metadata": {}
    },
    {
     "output_type": "display_data",
     "data": {
      "text/plain": [
       "Eq(sin(theta_2/2)*cos(m/2), n_y*sin(alpha/2))"
      ],
      "text/latex": "$\\displaystyle \\sin{\\left(\\frac{\\theta_{2}}{2} \\right)} \\cos{\\left(\\frac{m}{2} \\right)} = n_{y} \\sin{\\left(\\frac{\\alpha}{2} \\right)}$"
     },
     "metadata": {}
    },
    {
     "output_type": "display_data",
     "data": {
      "text/plain": [
       "Eq(sin(p/2)*cos(theta_2/2), n_z*sin(alpha/2))"
      ],
      "text/latex": "$\\displaystyle \\sin{\\left(\\frac{p}{2} \\right)} \\cos{\\left(\\frac{\\theta_{2}}{2} \\right)} = n_{z} \\sin{\\left(\\frac{\\alpha}{2} \\right)}$"
     },
     "metadata": {}
    }
   ]
  },
  {
   "cell_type": "markdown",
   "source": [
    "This system can be solved by Sympy, but we obtain a rather ugly solution after a lot of computation time:"
   ],
   "metadata": {
    "id": "aghJPoCB9hjY"
   }
  },
  {
   "cell_type": "code",
   "source": [
    "# sp.solve([q.a - rhs.a, q.b - rhs.b, q.c - rhs.c, q.d - rhs.d], theta1, theta2, theta3) # Using this we find a horrific-looking expression after quite some computation time..."
   ],
   "metadata": {
    "id": "Vdb1iFW29mDL"
   },
   "execution_count": null,
   "outputs": []
  },
  {
   "cell_type": "markdown",
   "source": [
    "Instead, assume $\\sin(p/2) \\neq 0$, then we can substitute in the first equation $\\cos\\left(\\theta_2/2\\right)$ with its value computed from the last equation. We get:"
   ],
   "metadata": {
    "id": "V-3bhn-o3mnJ"
   }
  },
  {
   "cell_type": "code",
   "source": [
    "sp.trigsimp(sp.Eq(rhs_simplified.a, q.a).subs(sp.cos(theta2 / 2), nz * sp.sin(alpha / 2) / sp.sin(p / 2)))"
   ],
   "metadata": {
    "colab": {
     "base_uri": "https://localhost:8080/",
     "height": 62
    },
    "id": "5a7du4SZ-eek",
    "outputId": "608b4974-fffb-4bd8-fd13-56a597fbc0ef"
   },
   "execution_count": null,
   "outputs": [
    {
     "output_type": "execute_result",
     "data": {
      "text/plain": [
       "Eq(n_z*sin(alpha/2)/tan(p/2), cos(alpha/2))"
      ],
      "text/latex": "$\\displaystyle \\frac{n_{z} \\sin{\\left(\\frac{\\alpha}{2} \\right)}}{\\tan{\\left(\\frac{p}{2} \\right)}} = \\cos{\\left(\\frac{\\alpha}{2} \\right)}$"
     },
     "metadata": {},
     "execution_count": 21
    }
   ]
  },
  {
   "cell_type": "markdown",
   "source": [
    "Therefore\n",
    "$$\n",
    "p = \\theta_1 + \\theta_3 = 2 \\arctan \\left[n_z \\tan\n",
    "\\left(\n",
    "\\frac{\\alpha}{2} \\right)\\right]\n",
    "$$"
   ],
   "metadata": {
    "id": "kWWrouTT5z7_"
   }
  },
  {
   "cell_type": "markdown",
   "source": [
    "We can then deduce\n",
    "$$\n",
    "\\begin{array}{rl}\n",
    "\\theta_2 & = 2 \\arccos \\left[ \\cos \\left(\\frac{\\alpha}{2}\\right) \\cos^{-1}\\left(\\frac{p}{2}\\right) \\right] \\\\\n",
    "&= 2 \\arccos \\left[ \\cos\\left(\\frac{\\alpha}{2}\\right) \\sqrt{1 + n_z^2 \\tan^2 \\left(\n",
    "  \\frac{\\alpha}{2}  \\right) } \\right] \\\\\n",
    "\\end{array}\n",
    "$$"
   ],
   "metadata": {
    "id": "FbFJJtNSPgYX"
   }
  },
  {
   "cell_type": "markdown",
   "source": [
    "Using the third equation, we can finally deduce the value of $m$:\n",
    "$$\n",
    "m=\\theta_1 - \\theta_3 = 2\\arccos\\left[\\frac{ n_y \\sin\\left(\\frac{\\alpha}{2}\\right) } {\\sin\\left(\\frac{\\theta_2}{2}\\right)}\\right]\n",
    "$$"
   ],
   "metadata": {
    "id": "8xYQQeyjRcUd"
   }
  },
  {
   "cell_type": "markdown",
   "source": [
    "Let us put this into code..."
   ],
   "metadata": {
    "id": "f3TqRkKTArZ1"
   }
  },
  {
   "cell_type": "code",
   "source": [
    "from typing import Tuple\n",
    "\n",
    "ATOL = 0.0001\n",
    "\n",
    "def theta123(alpha: float, axis: Tuple[float, float, float]):\n",
    "    \"\"\"\n",
    "    Gives the angles used in the Z-Y-Z decomposition of the Bloch sphere rotation\n",
    "    caracterized by a rotation around `axis` of angle `alpha`.\n",
    "\n",
    "    Parameters:\n",
    "      alpha: angle of the Bloch sphere rotation\n",
    "      axis: _normalized_ axis of the Bloch sphere rotation\n",
    "\n",
    "    Returns:\n",
    "      a triple (theta1, theta2, theta3) corresponding to the decomposition of the\n",
    "      arbitrary Bloch sphere rotation into U = rz(theta1) ry(theta2) rz(theta3)\n",
    "    \"\"\"\n",
    "\n",
    "    # FIXME: there might (will) be edge cases where this crashes.\n",
    "\n",
    "    nx, ny, nz = axis\n",
    "\n",
    "    assert abs(nx**2 + ny**2 + nz**2 - 1) < ATOL, \"Axis needs to be normalized\"\n",
    "\n",
    "    ta2 = math.tan(alpha / 2)\n",
    "\n",
    "    theta2 = 2 * math.acos(math.cos(alpha / 2) * math.sqrt(1 + (nz * ta2) ** 2))\n",
    "\n",
    "    p = 2 * math.atan(nz * ta2)\n",
    "\n",
    "    m = 2 * math.acos(ny * math.sin(alpha / 2) / math.sin(theta2 / 2))\n",
    "\n",
    "    theta1 = (p + m) / 2\n",
    "\n",
    "    theta3 = p - theta1\n",
    "\n",
    "    return (theta1, theta2, theta3)"
   ],
   "metadata": {
    "id": "w_WCrbsgUIQx"
   },
   "execution_count": null,
   "outputs": []
  },
  {
   "cell_type": "markdown",
   "source": [
    "Once we have our angles, we can implement the OpenSquirrel decomposition. This is done with a Python function (defined below) that takes an arbitrary `opensquirrel.squirrel_ir.Gate` object, and returns a list of gates. This function is applied internally to all gates of the circuit. Since 2-qubit gates should be left as-is, there is an `isinstance` check, to skip those.\n",
    "\n",
    "Also note that the axis of a `BlochSphereRotation` in OpenSquirrel is always normalized internally, and the `angle` should always be in the range $[-\\pi, \\pi]$.\n",
    "\n",
    "Here is what our final Z-Y-Z decomposition looks like:"
   ],
   "metadata": {
    "id": "8Hq40VH_ITXw"
   }
  },
  {
   "cell_type": "code",
   "source": [
    "from opensquirrel.squirrel_ir import Gate, BlochSphereRotation\n",
    "from opensquirrel.default_gates import rz, ry\n",
    "\n",
    "def zyz_decomposer(g: Gate):\n",
    "    if not isinstance(g, BlochSphereRotation):\n",
    "      return [g] # Do nothing.\n",
    "\n",
    "    theta1, theta2, theta3 = theta123(g.angle, g.axis)\n",
    "\n",
    "    z1 = rz(g.qubit, Float(theta1))\n",
    "    y = ry(g.qubit, Float(theta2))\n",
    "    z2 = rz(g.qubit, Float(theta3))\n",
    "\n",
    "    # Note: written like this, the decomposition doesn't preserve the global phase, which is fine\n",
    "    # since the global phase is a physically irrelevant artifact of the mathematical\n",
    "    # model we use to describe the quantum system.\n",
    "\n",
    "    # Should we want to preserve it, we would need to use a raw BlochSphereRotation, which would then\n",
    "    # be an anonymous gate in the resulting decomposed circuit:\n",
    "    # z2 = BlochSphereRotation(qubit=g.qubit, angle=theta3, axis=(0, 0, 1), phase = g.phase)\n",
    "\n",
    "    return [z1, y, z2]"
   ],
   "metadata": {
    "id": "PRdKQosJIoSB"
   },
   "execution_count": null,
   "outputs": []
  },
  {
   "cell_type": "markdown",
   "source": [
    "Once we defined the decomposition function, we can apply it using the `opensquirrel.Circuit.decompose(decomposer=...)` method. The decomposition of every gate is checked, to see if it preserves the circuit semantics (_i.e._, the unitary matrix), so we can sleep on both ears knowing that our circuit/quantum state remains the same."
   ],
   "metadata": {
    "id": "pzWUmE6wJ5PF"
   }
  },
  {
   "cell_type": "code",
   "source": [
    "circuit_to_decompose = os.Circuit.from_string(\"\"\"\n",
    "version 3.0\n",
    "\n",
    "qubit[3] q\n",
    "\n",
    "h q[0]\n",
    "\"\"\")\n",
    "\n",
    "circuit_to_decompose.merge_single_qubit_gates()\n",
    "circuit_to_decompose.decompose(decomposer=zyz_decomposer)\n",
    "circuit_to_decompose"
   ],
   "metadata": {
    "colab": {
     "base_uri": "https://localhost:8080/"
    },
    "id": "HsyvBbAvKJJ0",
    "outputId": "9738a81f-d149-41f1-abfb-deff29cbcb51"
   },
   "execution_count": null,
   "outputs": [
    {
     "output_type": "execute_result",
     "data": {
      "text/plain": [
       "version 3.0\n",
       "\n",
       "qubit[3] q\n",
       "\n",
       "rz q[0], 3.1415927\n",
       "ry q[0], 1.5707963\n",
       "rz q[0], 0.0"
      ]
     },
     "metadata": {},
     "execution_count": 24
    }
   ]
  },
  {
   "cell_type": "markdown",
   "source": [
    "We get the expected result for the hadamard gate: $H = Y^{\\frac{1}{2}} Z$, one of the canonical decompositions of the Hadamard gate as described in the [Quantum Inspire knowledge base](https://www.quantum-inspire.com/kbase/hadamard/)."
   ],
   "metadata": {
    "id": "NrDwe3WCne_3"
   }
  },
  {
   "cell_type": "code",
   "source": [
    "theta123(math.pi, (1/math.sqrt(2), 0, 1/math.sqrt(2)))"
   ],
   "metadata": {
    "colab": {
     "base_uri": "https://localhost:8080/"
    },
    "id": "M9z9g6BMoNJA",
    "outputId": "978544f7-4306-48d7-adce-b91c048ee13d"
   },
   "execution_count": null,
   "outputs": [
    {
     "output_type": "execute_result",
     "data": {
      "text/plain": [
       "(3.141592653589793, 1.5707963267948966, 0.0)"
      ]
     },
     "metadata": {},
     "execution_count": 52
    }
   ]
  },
  {
   "cell_type": "code",
   "source": [
    "theta2"
   ],
   "metadata": {
    "colab": {
     "base_uri": "https://localhost:8080/"
    },
    "id": "kmx4S_cep2nb",
    "outputId": "b6290be3-178e-406e-b33b-3276012240c3"
   },
   "execution_count": null,
   "outputs": [
    {
     "output_type": "execute_result",
     "data": {
      "text/plain": [
       "1.5707963267948966"
      ]
     },
     "metadata": {},
     "execution_count": 47
    }
   ]
  },
  {
   "cell_type": "code",
   "source": [
    "ny * math.sin(alpha / 2) / math.sin(theta2 / 2)"
   ],
   "metadata": {
    "colab": {
     "base_uri": "https://localhost:8080/"
    },
    "id": "Xtw7wzuWo7s0",
    "outputId": "a06da422-4388-4ee2-e105-8a0fbd5c2d30"
   },
   "execution_count": null,
   "outputs": [
    {
     "output_type": "execute_result",
     "data": {
      "text/plain": [
       "0.0"
      ]
     },
     "metadata": {},
     "execution_count": 51
    }
   ]
  },
  {
   "cell_type": "code",
   "source": [
    "theta2 = 2 * math.acos(math.cos(alpha / 2) * math.sqrt(1 + (nz * ta2) ** 2))\n",
    "theta2"
   ],
   "metadata": {
    "colab": {
     "base_uri": "https://localhost:8080/"
    },
    "id": "5Qkm3C0Bo4S-",
    "outputId": "279215aa-d77e-4257-fc34-c1a7e04f3490"
   },
   "execution_count": null,
   "outputs": [
    {
     "output_type": "execute_result",
     "data": {
      "text/plain": [
       "1.5707963267948966"
      ]
     },
     "metadata": {},
     "execution_count": 31
    }
   ]
  },
  {
   "cell_type": "markdown",
   "source": [
    "What happens when the gate set doesn't include `rz` and `ry`?"
   ],
   "metadata": {
    "id": "cwHKdNPw3Ijd"
   }
  }
 ]
}
