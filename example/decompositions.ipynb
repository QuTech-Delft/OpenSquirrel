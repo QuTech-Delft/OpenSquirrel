{
 "cells": [
  {
   "cell_type": "markdown",
   "id": "907632f5-a816-496f-bdf8-91ec46d123f3",
   "metadata": {},
   "source": [
    "# Decomposing Circuits in OpenSquirrel\n",
    "\n",
    "Not all gates, such as the Hadamard gate, can be applied to physical qubits with a single operation. This is because each gate-based quantum computer has its own set of devices and architectural restrictions, which confine the _pulses_, or the operation used to create a gate on a quantum computer, to specific rotations, angles, and durations. \n",
    "\n",
    "Decomposition schemes extend a robust gate into a set of gates that can be pulsed on a quantum computer. OpenSquirrel offers many decomposition schemes that can be applied to a gate or a circuit.\n",
    "\n",
    "## 1 Single Qubit Gates\n",
    "\n",
    "### 1.1 ABA Decomposition\n",
    "\n",
    "The ABA decomposition (or KAK decomposition) is a decomposition method that uses three consecutive Pauli rotation gates to form any unitary gate. Thus, any arbitrary single qubit gate can be expressed as a product of rotations: a rotation around the A axis, followed by a rotation around the B axis, and then another rotation around the A axis. The mathematical formalism for this rotation can be seen in section 3.1.\n",
    "\n",
    "In OpenSquirrel, this can be found in the `get_decomposition_angles` method from the  `opensquirrel.decomposer.aba_decomposer` module. The ABA Decomposition can be applied to list of gates or a circuit. Below we will first focus on decomposing a circuit.\n",
    "\n",
    "The circuit chosen is a single qubit circuit with an added Hadamard, Z, Y, and Rx gate. \n",
    "\n",
    "```\n",
    "                   ┌───┐┌───┐┌───┐┌─────────┐\n",
    "                q: ┤ H ├┤ Z ├┤ Y ├┤ Rx(π/3) ├\n",
    "                   └───┘└───┘└───┘└─────────┘\n",
    "```\n",
    "\n",
    "This can be seen below, "
   ]
  },
  {
   "cell_type": "code",
   "execution_count": 16,
   "id": "022c5348-c2d5-4b8b-b600-8aa0722a5d3b",
   "metadata": {
    "ExecuteTime": {
     "end_time": "2024-08-05T11:35:25.139077Z",
     "start_time": "2024-08-05T11:35:25.102389Z"
    }
   },
   "source": [
    "import math\n",
    "\n",
    "from opensquirrel.circuit_builder import CircuitBuilder\n",
    "from opensquirrel.ir import Float\n",
    "\n",
    "# Build the circuit structure using the CircuitBuilder\n",
    "builder = CircuitBuilder(qubit_register_size=1)\n",
    "builder.H(0)\n",
    "builder.Z(0)\n",
    "builder.Y(0)\n",
    "builder.Rx(0, Float(math.pi / 3))\n",
    "\n",
    "# Create a new circuit from the constructed structure\n",
    "circuit = builder.to_circuit()\n",
    "circuit"
   ],
   "outputs": [
    {
     "data": {
      "text/plain": [
       "version 3.0\n",
       "\n",
       "qubit[1] q\n",
       "\n",
       "H q[0]\n",
       "Z q[0]\n",
       "Y q[0]\n",
       "Rx(1.0471976) q[0]"
      ]
     },
     "execution_count": 16,
     "metadata": {},
     "output_type": "execute_result"
    }
   ],
   "source": [
    "import math\n",
    "\n",
    "from opensquirrel.circuit_builder import CircuitBuilder\n",
    "\n",
    "# Build the circuit structure using the CircuitBuilder\n",
    "builder = CircuitBuilder(qubit_register_size=1)\n",
    "builder.H(0)\n",
    "builder.Z(0)\n",
    "builder.Y(0)\n",
    "builder.Rx(0, math.pi / 3)\n",
    "\n",
    "# Create a new circuit from the constructed structure\n",
    "circuit = builder.to_circuit()\n",
    "circuit"
   ]
  },
  {
   "cell_type": "markdown",
   "source": [
    "Above we can see the current gates in our circuit. Having created a circuit, we can now use an ABA decomposition in `opensquirrel.decomposer.aba_decomposer` to decompose the gates in the circuit. For this example, we will apply the Z-Y-Z decomposition using the `ZYZDecomposer`. "
   ],
   "id": "afe111839ab98b22"
  },
  {
   "cell_type": "code",
   "execution_count": 17,
   "id": "52cd16989c4eda95",
   "metadata": {
    "ExecuteTime": {
     "end_time": "2024-08-05T11:35:25.276501Z",
     "start_time": "2024-08-05T11:35:25.250600Z"
    }
   },
   "outputs": [
    {
     "data": {
      "text/plain": [
       "version 3.0\n",
       "\n",
       "qubit[1] q\n",
       "\n",
       "Rz(3.1415927) q[0]\n",
       "Ry(1.5707963) q[0]\n",
       "Rz(3.1415927) q[0]\n",
       "Ry(3.1415927) q[0]\n",
       "Rz(1.5707963) q[0]\n",
       "Ry(1.0471976) q[0]\n",
       "Rz(-1.5707963) q[0]"
      ]
     },
     "execution_count": 17,
     "metadata": {},
     "output_type": "execute_result"
    }
   ],
   "source": [
    "from opensquirrel.decomposer.aba_decomposer import ZYZDecomposer\n",
    "\n",
    "# Decompose the circuit using ZYZDecomposer\n",
    "circuit.decompose(decomposer=ZYZDecomposer())\n",
    "circuit"
   ]
  },
  {
   "cell_type": "markdown",
   "id": "2528385b2958b1ad",
   "metadata": {},
   "source": [
    "```\n",
    "       ┌───────┐┌─────────┐┌───────┐┌───────┐┌─────────┐┌────────────┐┌──────────┐\n",
    "    q: ┤ Rz(π) ├┤ Ry(π/2) ├┤ Rz(π) ├┤ Ry(π) ├┤ Rz(π/2) ├┤ Ry(1.0472) ├┤ Rz(-π/2) ├\n",
    "       └───────┘└─────────┘└───────┘└───────┘└─────────┘└────────────┘└──────────┘\n",
    "```\n",
    "\n",
    "All the gates are now a combination of rotations on the Z or Y axis. The first three gates are the decomposition of the Hadamard gate. Keep in mind that not every gate has to be decomposed into three gates! \n",
    "\n",
    "This can be seen with the Y and Z gates, where only a single rotation gate was necessary for each gate decomposition. The Pauli Y gate is equal to a rotation of $\\pi$ radians on the Bloch sphere in the Y-axis while the Pauli Z is equal to a $\\pi/2$ rotation on the Bloch sphere in the Z-axis.\n",
    "\n",
    "Finally, the $\\pi/3$ radian rotation in the X-axis can be decomposed into the last two remaining gates.\n",
    "\n",
    "It is also possible to decompose individual gates. This can be seen below with the Hadamard gate.\n",
    "\n"
   ]
  },
  {
   "cell_type": "code",
   "execution_count": 18,
   "id": "31291a902d6a360e",
   "metadata": {
    "ExecuteTime": {
     "end_time": "2024-08-05T11:35:25.337564Z",
     "start_time": "2024-08-05T11:35:25.292151Z"
    }
   },
   "cell_type": "code",
   "source": [
    "from opensquirrel.decomposer.aba_decomposer import XZXDecomposer\n",
    "from opensquirrel.default_gates import H\n",
    "\n",
    "XZXDecomposer().decompose(H(0))"
   ],
   "id": "31291a902d6a360e",
   "outputs": [
    {
     "data": {
      "text/plain": [
       "[BlochSphereRotation(Qubit[0], axis=Axis[1. 0. 0.], angle=1.5707963267948966, phase=0.0),\n",
       " BlochSphereRotation(Qubit[0], axis=Axis[0. 0. 1.], angle=1.5707963267948966, phase=0.0),\n",
       " BlochSphereRotation(Qubit[0], axis=Axis[1. 0. 0.], angle=1.5707963267948966, phase=0.0)]"
      ]
     },
     "execution_count": 18,
     "metadata": {},
     "output_type": "execute_result"
    }
   ],
   "source": [
    "from opensquirrel.decomposer.aba_decomposer import XZXDecomposer\n",
    "from opensquirrel.default_gates import H\n",
    "\n",
    "XZXDecomposer().decompose(H(0))"
   ]
  },
  {
   "cell_type": "markdown",
   "id": "1820057d1b73e8f0",
   "metadata": {},
   "source": [
    "### 1.2 McKay Decomposition\n",
    "\n",
    "The McKay decomposition comes from this paper https://arxiv.org/pdf/1612.00858. \n",
    "\n",
    "This decomposition utilizes at least three arbitrary Z rotations and two X90 gates (90-degree rotations around the X-axis on the Bloch sphere), totaling a maximum of five gates. It is particularly powerful in experimental settings where Rz gates can be efficiently pulsed to small angles, while other rotations cannot. The mathematical formalism of the McKay decomposition can be found in section 3.2.\n",
    "\n",
    "In OpenSquirrel, the `McKayDecomposer` works similarly to the `ABADecomposer`. Thus, we will begin once again by building a circuit the following circuit,\n",
    "```\n",
    "               ┌───┐┌───┐┌───┐┌─────────┐\n",
    "            q: ┤ H ├┤ Z ├┤ X ├┤ Rx(π/3) ├\n",
    "               └───┘└───┘└───┘└─────────┘\n",
    "``` "
   ]
  },
  {
   "cell_type": "code",
   "execution_count": 19,
   "id": "30f9963d11fe9f10",
   "metadata": {
    "ExecuteTime": {
     "end_time": "2024-08-05T11:35:25.402396Z",
     "start_time": "2024-08-05T11:35:25.386249Z"
    }
   },
   "cell_type": "code",
   "source": [
    "# Build the circuit structure using the CircuitBuilder\n",
    "builder = CircuitBuilder(qubit_register_size=1)\n",
    "builder.H(0)\n",
    "builder.Z(0)\n",
    "builder.X(0)\n",
    "builder.Rx(0, Float(math.pi / 3))\n",
    "\n",
    "# Create a new circuit from the constructed structure\n",
    "circuit = builder.to_circuit()\n",
    "circuit"
   ],
   "id": "30f9963d11fe9f10",
   "outputs": [
    {
     "data": {
      "text/plain": [
       "version 3.0\n",
       "\n",
       "qubit[1] q\n",
       "\n",
       "H q[0]\n",
       "Z q[0]\n",
       "X q[0]\n",
       "Rx(1.0471976) q[0]"
      ]
     },
     "execution_count": 19,
     "metadata": {},
     "output_type": "execute_result"
    }
   ],
   "source": [
    "# Build the circuit structure using the CircuitBuilder\n",
    "builder = CircuitBuilder(qubit_register_size=1)\n",
    "builder.H(0)\n",
    "builder.Z(0)\n",
    "builder.X(0)\n",
    "builder.Rx(0, math.pi / 3)\n",
    "\n",
    "# Create a new circuit from the constructed structure\n",
    "circuit = builder.to_circuit()\n",
    "circuit"
   ]
  },
  {
   "cell_type": "markdown",
   "source": [
    "The `McKayDecomposer` is called from `opensquirrel.decomposer.mckay_decomposer` and used in a similar method to the `ABADecomposer`."
   ],
   "id": "69517d8287c1777d"
  },
  {
   "cell_type": "code",
   "execution_count": 20,
   "id": "fb14d44cc2787511",
   "metadata": {
    "ExecuteTime": {
     "end_time": "2024-08-05T11:35:25.530182Z",
     "start_time": "2024-08-05T11:35:25.501221Z"
    }
   },
   "outputs": [
    {
     "data": {
      "text/plain": [
       "version 3.0\n",
       "\n",
       "qubit[1] q\n",
       "\n",
       "Rz(1.5707963) q[0]\n",
       "X90 q[0]\n",
       "Rz(1.5707963) q[0]\n",
       "Rz(3.1415927) q[0]\n",
       "X90 q[0]\n",
       "X90 q[0]\n",
       "Rz(-1.5707963) q[0]\n",
       "X90 q[0]\n",
       "Rz(2.0943951) q[0]\n",
       "X90 q[0]\n",
       "Rz(-1.5707963) q[0]"
      ]
     },
     "execution_count": 20,
     "metadata": {},
     "output_type": "execute_result"
    }
   ],
   "source": [
    "from opensquirrel.decomposer.mckay_decomposer import McKayDecomposer\n",
    "\n",
    "# Decompose the circuit using ZYZDecomposer\n",
    "circuit.decompose(decomposer=McKayDecomposer())\n",
    "circuit"
   ]
  },
  {
   "cell_type": "markdown",
   "id": "d5ce1a182acf6f25",
   "metadata": {},
   "source": [
    "```\n",
    "   ┌─────────┐┌─────────┐┌─────────┐┌───────┐┌─────────┐┌─────────┐┌──────────┐»\n",
    "q: ┤ Rz(π/2) ├┤ Rx(π/4) ├┤ Rz(π/2) ├┤ Rz(π) ├┤ Rx(π/4) ├┤ Rx(π/4) ├┤ Rz(-π/2) ├»\n",
    "   └─────────┘└─────────┘└─────────┘└───────┘└─────────┘└─────────┘└──────────┘»\n",
    "«   ┌─────────┐┌────────────┐┌─────────┐┌──────────┐\n",
    "«q: ┤ Rx(π/4) ├┤ Rz(2.0944) ├┤ Rx(π/4) ├┤ Rz(-π/2) ├\n",
    "«   └─────────┘└────────────┘└─────────┘└──────────┘\n",
    "```\n",
    "\n",
    "Above you can see the decomposition. Depending on the gate, not all five gates are necessary for the decomposition as seen by the first three gates, which are used to decompose the Hadamard gate. \n",
    "\n",
    "The Pauli Z is simply a $\\pi$ rotation around the Z-axis and the Pauli X gate is two consecutive X90 gates. The $\\pi/3$ X axis rotation gate does subsequently use all five gates in it's decomposition. "
   ]
  },
  {
   "cell_type": "markdown",
   "id": "8899ef94cfadd37",
   "metadata": {},
   "source": [
    "## 2. Multi-qubit Gates\n",
    "\n",
    "### 2.1 ABC Decomposition\n",
    "\n",
    "We can envision multi-qubit gates as controlled gates. This means that if a control qubit or qubit sets are equal to one, perform an operation on a target qubit (or qubits). Again, most architectures do not possess the full control capabilities of a controlled operation. Therefore, a multi-qubit gate is decomposed by three single qubit gates of arbitrary rotations (here we will use the `Rz` and `Ry`), with a `CNOT` gate in between each single qubit gate. An extra `Rz` rotation is added to the control qubit to preserve the global phase. This can be seen in section 3.3.\n",
    "\n",
    "This decomposition scheme is referred to as the `cnot_decomposer` on OpenSquirrel. In order to test this, we will build a circuit with multi-qubit gates. Below is an example containing a two qubit circuit with a controlled Z gate between the first qubit (control) and the second qubit (target), a controlled Z-axis rotation of $\\pi/3$ radians between the first qubit (control) and the second qubit (target) and an additional controlled Z-axis rotation of $\\pi/2$ radians between the second qubit (control) and the first qubit (target).\n",
    "\n",
    "```\n",
    "                               ┌─────────┐\n",
    "            q_0: ─■──────■─────┤ Rz(π/2) ├\n",
    "                  │ ┌────┴────┐└────┬────┘\n",
    "            q_1: ─■─┤ Rz(π/3) ├─────■─────\n",
    "                    └─────────┘           \n",
    "```\n"
   ]
  },
  {
   "cell_type": "code",
   "execution_count": 21,
   "id": "9dde566d07c40960",
   "metadata": {
    "ExecuteTime": {
     "end_time": "2024-08-05T11:35:25.629254Z",
     "start_time": "2024-08-05T11:35:25.608325Z"
    }
   },
   "cell_type": "code",
   "source": [
    "# Build the circuit structure using the CircuitBuilder\n",
    "builder = CircuitBuilder(qubit_register_size=2)\n",
    "builder.CZ(0, 1)\n",
    "builder.CR(0, 1, Float(math.pi / 3))\n",
    "builder.CR(1, 0, Float(math.pi / 2))\n",
    "\n",
    "# Create a new circuit from the constructed structure\n",
    "circuit = builder.to_circuit()\n",
    "circuit"
   ],
   "id": "9dde566d07c40960",
   "outputs": [
    {
     "data": {
      "text/plain": [
       "version 3.0\n",
       "\n",
       "qubit[2] q\n",
       "\n",
       "CZ q[0], q[1]\n",
       "CR(1.0471976) q[0], q[1]\n",
       "CR(1.5707963) q[1], q[0]"
      ]
     },
     "execution_count": 21,
     "metadata": {},
     "output_type": "execute_result"
    }
   ],
   "source": [
    "# Build the circuit structure using the CircuitBuilder\n",
    "builder = CircuitBuilder(qubit_register_size=2)\n",
    "builder.CZ(0, 1)\n",
    "builder.CR(0, 1, math.pi / 3)\n",
    "builder.CR(1, 0, math.pi / 2)\n",
    "\n",
    "# Create a new circuit from the constructed structure\n",
    "circuit = builder.to_circuit()\n",
    "circuit"
   ]
  },
  {
   "cell_type": "markdown",
   "source": [
    "We can import `CNOTDecomposer` from `opensquirrel.decomposer.cnot_decomposer`. The above circuit can then be decomposed using `CNOTDecomposer` as seen below."
   ],
   "id": "8c945ab4572e9f77"
  },
  {
   "cell_type": "code",
   "execution_count": 22,
   "id": "d10cb0450661ad90",
   "metadata": {
    "ExecuteTime": {
     "end_time": "2024-08-05T11:35:25.788024Z",
     "start_time": "2024-08-05T11:35:25.754896Z"
    }
   },
   "outputs": [
    {
     "data": {
      "text/plain": [
       "version 3.0\n",
       "\n",
       "qubit[2] q\n",
       "\n",
       "Rz(-3.1415927) q[1]\n",
       "Ry(1.5707963) q[1]\n",
       "CNOT q[0], q[1]\n",
       "Ry(-1.5707963) q[1]\n",
       "Rz(3.1415927) q[1]\n",
       "Rz(0.52359878) q[1]\n",
       "CNOT q[0], q[1]\n",
       "Rz(-0.52359878) q[1]\n",
       "CNOT q[0], q[1]\n",
       "Rz(0.52359878) q[0]\n",
       "Rz(0.78539816) q[0]\n",
       "CNOT q[1], q[0]\n",
       "Rz(-0.78539816) q[0]\n",
       "CNOT q[1], q[0]\n",
       "Rz(0.78539816) q[1]"
      ]
     },
     "execution_count": 22,
     "metadata": {},
     "output_type": "execute_result"
    }
   ],
   "source": [
    "from opensquirrel.decomposer.cnot_decomposer import CNOTDecomposer\n",
    "\n",
    "circuit.decompose(decomposer=CNOTDecomposer())\n",
    "circuit"
   ]
  },
  {
   "cell_type": "markdown",
   "id": "a53a42651ab8e70",
   "metadata": {},
   "source": [
    "```\n",
    "                                                                       »\n",
    "q_0: ───────────────────────■───────────────────────────────────────■──»\n",
    "     ┌────────┐┌─────────┐┌─┴─┐┌──────────┐┌───────┐┌────────────┐┌─┴─┐»\n",
    "q_1: ┤ Rz(-π) ├┤ Ry(π/2) ├┤ X ├┤ Ry(-π/2) ├┤ Rz(π) ├┤ Rz(0.5236) ├┤ X ├»\n",
    "     └────────┘└─────────┘└───┘└──────────┘└───────┘└────────────┘└───┘»\n",
    "«      ┌────────────┐┌────────────┐┌───┐┌─────────────┐┌───┐              \n",
    "«q_0: ─┤ Rz(0.5236) ├┤ Rz(0.7854) ├┤ X ├┤ Rz(-0.7854) ├┤ X ├──────────────\n",
    "«     ┌┴────────────┤└────────────┘└─┬─┘└─────────────┘└─┬─┘┌────────────┐\n",
    "«q_1: ┤ Rz(-0.5236) ├────────────────■───────────────────■──┤ Rz(0.7854) ├\n",
    "«     └─────────────┘                                       └────────────┘\n",
    "```"
   ]
  },
  {
   "cell_type": "markdown",
   "id": "a0d02d36e1ab2aaf",
   "metadata": {},
   "source": [
    "## 3. Decomposition Theory\n",
    "\n",
    "### 3.1 ABADecomposer\n",
    "Let us mathematically look at one of the most common ABA decompositions, the Z-Y-Z decomposition.\n",
    "A 3D rotation of angle $\\alpha$ about the (normalized) axis $n=\\left(n_x, n_y, n_z \\right)$ can be represented by the quaternion $q = \\cos\\left(\\alpha/2\\right) + \\sin\\left(\\alpha/2\\right) \\left( n_x i + n_y j + n_z k \\right)$.\n",
    "Since composition of rotations is equivalent of the product of their quaternions, we have to find angles $\\theta_1$, $\\theta_2$ and $\\theta_3$ such that\n",
    "\n",
    "$$\n",
    "q =\n",
    "\\left[ \\cos\\left(\\frac{\\theta_1}{2}\\right) + k \\sin\\left(\\frac{\\theta_1}{2}\\right) \\right]\n",
    "\\left[ \\cos\\left(\\frac{\\theta_2}{2}\\right) + j \\sin\\left(\\frac{\\theta_2}{2}\\right) \\right]\n",
    "\\left[ \\cos\\left(\\frac{\\theta_3}{2}\\right) + k \\sin\\left(\\frac{\\theta_3}{2}\\right) \\right]\\ .\n",
    "$$\n",
    "\n",
    "Let us expand this last term with Sympy:\n",
    "\n"
   ]
  },
  {
   "cell_type": "code",
   "execution_count": 23,
   "id": "4f16e159e92e1bac",
   "metadata": {
    "ExecuteTime": {
     "end_time": "2024-08-05T11:35:26.647908Z",
     "start_time": "2024-08-05T11:35:25.839481Z"
    }
   },
   "outputs": [
    {
     "data": {
      "text/latex": [
       "$\\displaystyle \\cos{\\left(\\frac{\\theta_{2}}{2} \\right)} \\cos{\\left(\\frac{\\theta_{1} + \\theta_{3}}{2} \\right)} + - \\sin{\\left(\\frac{\\theta_{2}}{2} \\right)} \\sin{\\left(\\frac{\\theta_{1} - \\theta_{3}}{2} \\right)} i + \\sin{\\left(\\frac{\\theta_{2}}{2} \\right)} \\cos{\\left(\\frac{\\theta_{1} - \\theta_{3}}{2} \\right)} j + \\sin{\\left(\\frac{\\theta_{1} + \\theta_{3}}{2} \\right)} \\cos{\\left(\\frac{\\theta_{2}}{2} \\right)} k$"
      ],
      "text/plain": [
       "cos(theta_2/2)*cos((theta_1 + theta_3)/2) + (-sin(theta_2/2)*sin((theta_1 - theta_3)/2))*i + sin(theta_2/2)*cos((theta_1 - theta_3)/2)*j + sin((theta_1 + theta_3)/2)*cos(theta_2/2)*k"
      ]
     },
     "execution_count": 23,
     "metadata": {},
     "output_type": "execute_result"
    }
   ],
   "source": [
    "import sympy as sp\n",
    "\n",
    "theta1, theta2, theta3 = sp.symbols(\"theta_1 theta_2 theta_3\")\n",
    "\n",
    "z1 = sp.algebras.Quaternion.from_axis_angle((0, 0, 1), theta1)\n",
    "y = sp.algebras.Quaternion.from_axis_angle((0, 1, 0), theta2)\n",
    "z2 = sp.algebras.Quaternion.from_axis_angle((0, 0, 1), theta3)\n",
    "\n",
    "rhs = sp.trigsimp(sp.expand(z1 * y * z2))\n",
    "rhs"
   ]
  },
  {
   "cell_type": "markdown",
   "source": [
    "Let us change variables and define $p\\equiv\\theta_1 + \\theta_3$ and $m\\equiv\\theta_1 - \\theta_3$."
   ],
   "id": "6e776f2cb7cae465"
  },
  {
   "cell_type": "code",
   "execution_count": 24,
   "id": "ce154326701df80c",
   "metadata": {
    "ExecuteTime": {
     "end_time": "2024-08-05T11:35:26.688943Z",
     "start_time": "2024-08-05T11:35:26.650726Z"
    }
   },
   "outputs": [
    {
     "data": {
      "text/latex": [
       "$\\displaystyle \\cos{\\left(\\frac{p}{2} \\right)} \\cos{\\left(\\frac{\\theta_{2}}{2} \\right)} + - \\sin{\\left(\\frac{m}{2} \\right)} \\sin{\\left(\\frac{\\theta_{2}}{2} \\right)} i + \\sin{\\left(\\frac{\\theta_{2}}{2} \\right)} \\cos{\\left(\\frac{m}{2} \\right)} j + \\sin{\\left(\\frac{p}{2} \\right)} \\cos{\\left(\\frac{\\theta_{2}}{2} \\right)} k$"
      ],
      "text/plain": [
       "cos(p/2)*cos(theta_2/2) + (-sin(m/2)*sin(theta_2/2))*i + sin(theta_2/2)*cos(m/2)*j + sin(p/2)*cos(theta_2/2)*k"
      ]
     },
     "execution_count": 24,
     "metadata": {},
     "output_type": "execute_result"
    }
   ],
   "source": [
    "p, m = sp.symbols(\"p m\")\n",
    "\n",
    "rhs_simplified = rhs.subs({theta1 + theta3: p, theta1 - theta3: m})\n",
    "\n",
    "rhs_simplified"
   ]
  },
  {
   "cell_type": "markdown",
   "source": [
    "The original rotation's quaternion $q$ can be defined in Sympy accordingly:"
   ],
   "id": "1ece3d36eb99512b"
  },
  {
   "cell_type": "code",
   "execution_count": 25,
   "id": "723edbb3c7fc18e9",
   "metadata": {
    "ExecuteTime": {
     "end_time": "2024-08-05T11:35:26.717028Z",
     "start_time": "2024-08-05T11:35:26.694571Z"
    }
   },
   "outputs": [
    {
     "data": {
      "text/latex": [
       "$\\displaystyle \\cos{\\left(\\frac{\\alpha}{2} \\right)} + n_{x} \\sin{\\left(\\frac{\\alpha}{2} \\right)} i + n_{y} \\sin{\\left(\\frac{\\alpha}{2} \\right)} j + n_{z} \\sin{\\left(\\frac{\\alpha}{2} \\right)} k$"
      ],
      "text/plain": [
       "cos(alpha/2) + n_x*sin(alpha/2)*i + n_y*sin(alpha/2)*j + n_z*sin(alpha/2)*k"
      ]
     },
     "execution_count": 25,
     "metadata": {},
     "output_type": "execute_result"
    }
   ],
   "source": [
    "alpha, nx, ny, nz = sp.symbols(\"alpha n_x n_y n_z\")\n",
    "\n",
    "q = sp.algebras.Quaternion.from_axis_angle((nx, ny, nz), alpha).subs(\n",
    "    {nx**2 + ny**2 + nz**2: 1}  # We assume the axis is normalized.\n",
    ")\n",
    "q"
   ]
  },
  {
   "cell_type": "markdown",
   "source": [
    "We get the following system of equations, where the unknowns are $p$, $m$, and $\\theta_2$:\n"
   ],
   "id": "7cb50842c8fa111a"
  },
  {
   "cell_type": "code",
   "execution_count": 26,
   "id": "ff552574a209d4fc",
   "metadata": {
    "ExecuteTime": {
     "end_time": "2024-08-05T11:35:26.771550Z",
     "start_time": "2024-08-05T11:35:26.722854Z"
    }
   },
   "outputs": [
    {
     "data": {
      "text/latex": [
       "$\\displaystyle \\cos{\\left(\\frac{p}{2} \\right)} \\cos{\\left(\\frac{\\theta_{2}}{2} \\right)} = \\cos{\\left(\\frac{\\alpha}{2} \\right)}$"
      ],
      "text/plain": [
       "Eq(cos(p/2)*cos(theta_2/2), cos(alpha/2))"
      ]
     },
     "metadata": {},
     "output_type": "display_data"
    },
    {
     "data": {
      "text/latex": [
       "$\\displaystyle - \\sin{\\left(\\frac{m}{2} \\right)} \\sin{\\left(\\frac{\\theta_{2}}{2} \\right)} = n_{x} \\sin{\\left(\\frac{\\alpha}{2} \\right)}$"
      ],
      "text/plain": [
       "Eq(-sin(m/2)*sin(theta_2/2), n_x*sin(alpha/2))"
      ]
     },
     "metadata": {},
     "output_type": "display_data"
    },
    {
     "data": {
      "text/latex": [
       "$\\displaystyle \\sin{\\left(\\frac{\\theta_{2}}{2} \\right)} \\cos{\\left(\\frac{m}{2} \\right)} = n_{y} \\sin{\\left(\\frac{\\alpha}{2} \\right)}$"
      ],
      "text/plain": [
       "Eq(sin(theta_2/2)*cos(m/2), n_y*sin(alpha/2))"
      ]
     },
     "metadata": {},
     "output_type": "display_data"
    },
    {
     "data": {
      "text/latex": [
       "$\\displaystyle \\sin{\\left(\\frac{p}{2} \\right)} \\cos{\\left(\\frac{\\theta_{2}}{2} \\right)} = n_{z} \\sin{\\left(\\frac{\\alpha}{2} \\right)}$"
      ],
      "text/plain": [
       "Eq(sin(p/2)*cos(theta_2/2), n_z*sin(alpha/2))"
      ]
     },
     "metadata": {},
     "output_type": "display_data"
    }
   ],
   "source": [
    "from IPython.display import display\n",
    "\n",
    "display(\n",
    "    sp.Eq(rhs_simplified.a, q.a),\n",
    "    sp.Eq(rhs_simplified.b, q.b),\n",
    "    sp.Eq(rhs_simplified.c, q.c),\n",
    "    sp.Eq(rhs_simplified.d, q.d),\n",
    ")"
   ]
  },
  {
   "cell_type": "markdown",
   "source": [
    "Instead, assume $\\sin(p/2) \\neq 0$, then we can substitute in the first equation $\\cos\\left(\\theta_2/2\\right)$ with its value computed from the last equation. We get:"
   ],
   "id": "e6b34ef9cb46f2e4"
  },
  {
   "cell_type": "code",
   "execution_count": 27,
   "id": "ace813c5d9563968",
   "metadata": {
    "ExecuteTime": {
     "end_time": "2024-08-05T11:35:26.852537Z",
     "start_time": "2024-08-05T11:35:26.773546Z"
    }
   },
   "outputs": [
    {
     "data": {
      "text/latex": [
       "$\\displaystyle \\frac{n_{z} \\sin{\\left(\\frac{\\alpha}{2} \\right)}}{\\tan{\\left(\\frac{p}{2} \\right)}} = \\cos{\\left(\\frac{\\alpha}{2} \\right)}$"
      ],
      "text/plain": [
       "Eq(n_z*sin(alpha/2)/tan(p/2), cos(alpha/2))"
      ]
     },
     "execution_count": 27,
     "metadata": {},
     "output_type": "execute_result"
    }
   ],
   "source": [
    "sp.trigsimp(sp.Eq(rhs_simplified.a, q.a).subs(sp.cos(theta2 / 2), nz * sp.sin(alpha / 2) / sp.sin(p / 2)))"
   ]
  },
  {
   "cell_type": "markdown",
   "id": "c9aed6548039af25",
   "metadata": {},
   "source": [
    "Therefore\n",
    "$$\n",
    "p = \\theta_1 + \\theta_3 = 2 \\arctan \\left[n_z \\tan\n",
    "\\left(\n",
    "\\frac{\\alpha}{2} \\right)\\right]\n",
    "$$"
   ]
  },
  {
   "cell_type": "markdown",
   "id": "6299c321c4d313cf",
   "metadata": {},
   "source": [
    "We can then deduce\n",
    "$$\n",
    "\\begin{array}{rl}\n",
    "\\theta_2 & = 2 \\arccos \\left[ \\cos \\left(\\frac{\\alpha}{2}\\right) \\cos^{-1}\\left(\\frac{p}{2}\\right) \\right] \\\\\n",
    "&= 2 \\arccos \\left[ \\cos\\left(\\frac{\\alpha}{2}\\right) \\sqrt{1 + n_z^2 \\tan^2 \\left(\n",
    "  \\frac{\\alpha}{2}  \\right) } \\right] \\\\\n",
    "\\end{array}\n",
    "$$"
   ]
  },
  {
   "cell_type": "markdown",
   "id": "301a87d61a19589f",
   "metadata": {},
   "source": [
    "Using the third equation, we can finally deduce the value of $m$:\n",
    "$$\n",
    "m=\\theta_1 - \\theta_3 = 2\\arccos\\left[\\frac{ n_y \\sin\\left(\\frac{\\alpha}{2}\\right) } {\\sin\\left(\\frac{\\theta_2}{2}\\right)}\\right]\n",
    "$$"
   ]
  },
  {
   "cell_type": "markdown",
   "source": [
    "The terms are similar to the other decompositions, XZX, YXY, ZXZ, XYX and YZY. However, for ZXZ, XYX and YZY, the $i$ term in the quaternion is positive as seen below in the YZY decomposition."
   ],
   "id": "e3fc4cdb6d15dd1"
  },
  {
   "cell_type": "code",
   "execution_count": 28,
   "id": "41885c573a5be060",
   "metadata": {
    "ExecuteTime": {
     "end_time": "2024-08-05T11:35:27.864665Z",
     "start_time": "2024-08-05T11:35:26.853611Z"
    }
   },
   "outputs": [
    {
     "data": {
      "text/latex": [
       "$\\displaystyle \\cos{\\left(\\frac{\\theta_{2}}{2} \\right)} \\cos{\\left(\\frac{\\theta_{1} + \\theta_{3}}{2} \\right)} + \\sin{\\left(\\frac{\\theta_{2}}{2} \\right)} \\sin{\\left(\\frac{\\theta_{1} - \\theta_{3}}{2} \\right)} i + \\sin{\\left(\\frac{\\theta_{1} + \\theta_{3}}{2} \\right)} \\cos{\\left(\\frac{\\theta_{2}}{2} \\right)} j + \\sin{\\left(\\frac{\\theta_{2}}{2} \\right)} \\cos{\\left(\\frac{\\theta_{1} - \\theta_{3}}{2} \\right)} k$"
      ],
      "text/plain": [
       "cos(theta_2/2)*cos((theta_1 + theta_3)/2) + sin(theta_2/2)*sin((theta_1 - theta_3)/2)*i + sin((theta_1 + theta_3)/2)*cos(theta_2/2)*j + sin(theta_2/2)*cos((theta_1 - theta_3)/2)*k"
      ]
     },
     "execution_count": 28,
     "metadata": {},
     "output_type": "execute_result"
    }
   ],
   "source": [
    "theta1, theta2, theta3 = sp.symbols(\"theta_1 theta_2 theta_3\")\n",
    "\n",
    "y1 = sp.algebras.Quaternion.from_axis_angle((0, 1, 0), theta1)\n",
    "z = sp.algebras.Quaternion.from_axis_angle((0, 0, 1), theta2)\n",
    "y2 = sp.algebras.Quaternion.from_axis_angle((0, 1, 0), theta3)\n",
    "\n",
    "rhs = sp.trigsimp(sp.expand(y1 * z * y2))\n",
    "rhs"
   ]
  },
  {
   "cell_type": "markdown",
   "source": [
    "Thus, in order to correct for the orientation of the rotation, $\\theta_1$ and $\\theta_3$ are swapped. "
   ],
   "id": "a41b84ed5f3365b2"
  },
  {
   "cell_type": "markdown",
   "id": "7fe8f13d6a29a652",
   "metadata": {},
   "source": [
    "### 3.2 Mckay Decomposition\n",
    "The McKay decomposition can be shown by studying the matrix representation of a generic gate with 3 Euler angles, $\\theta$, $\\phi$, and $\\lambda$. The $U$ gate can be seen below, which is capable of forming any unitary matrix or Bloch sphere rotation. \n",
    "\n",
    "$$\n",
    "U(\\theta,\\phi, \\lambda) = \n",
    "\\begin{bmatrix}\n",
    " \\mathrm{cos}(\\theta/2) & -i e^{i\\lambda}\\mathrm{sin}(\\theta/2) \\\\\n",
    "-i e^{i\\phi}\\mathrm{sin}(\\theta/2) & e^{i(\\lambda+\\phi)}\\mathrm{cos}(\\theta/2)\n",
    "\\end{bmatrix}\n",
    "$$\n",
    "\n",
    "This can be conveniently represented as,\n",
    "$$\n",
    "U(\\theta,\\phi, \\lambda) = Rz(\\phi) \\cdot Rx(\\theta) \\cdot Rz(\\lambda). \n",
    "$$\n",
    "\n",
    "Using the identity,\n",
    "$$\n",
    "Rx(\\theta) = Rz(-\\pi/2) \\cdot Rx(\\pi/2) \\cdot Rz(\\pi - \\theta) \\cdot Rx(\\pi/2) \\cdot Rz(-\\pi/2), \n",
    "$$\n",
    "one can show that any unitary gate is,\n",
    "$$\n",
    "U(\\theta,\\phi, \\lambda) = Rz(\\phi-\\pi/2) \\cdot Rx(\\pi/2) \\cdot Rz(\\pi - \\theta) \\cdot Rx(\\pi/2) \\cdot Rz(\\lambda-\\pi/2).\n",
    "$$"
   ]
  },
  {
   "cell_type": "markdown",
   "id": "866e89a24587f0af",
   "metadata": {},
   "source": [
    "### 3.3 ABA Decomposition\n",
    "In a two qubit system, the unitary matrix of a controlled operation is seen below,\n",
    "$$ \n",
    "U =\n",
    "\\begin{pmatrix}\n",
    "1 & 0 & 0 & 0 \\\\\n",
    "0 & 1 & 0 & 0 \\\\\n",
    "0 & 0 & U_{00} & U_{01} \\\\\n",
    "0 & 0 & U_{10} & U_{11}\n",
    "\\end{pmatrix}\n",
    "$$\n",
    "\n",
    "OpenSquirrel utilises the ABC decomposition (https://arxiv.org/abs/quant-ph/9503016) to decompose multi-qubit gates. The trick is to express a 1-qubit unitary $U$ as,\n",
    "$$\n",
    "U = e^{i\\alpha} A \\times B \\times C,\n",
    "$$\n",
    "where gates $A$, $B$, and $C$ are chosen such that $ABC = I$. An arbitrary controlled unitary is then expressed as,\n",
    "```\n",
    "                                q_0: ───────■─────────■────────■─────\n",
    "                                     ┌───┐┌─┴─┐┌───┐┌─┴─┐┌───┐ │Ph(α) \n",
    "                                q_1: ┤ A ├┤ X ├┤ B ├┤ X ├┤ C ├─■─────\n",
    "                                     └───┘└───┘└───┘└───┘└───┘       \n",
    "```\n",
    "where the first qubit acts as a control for two CNOTs and a controlled phase gate with a rotation of $\\alpha$. This can be reformulated as,\n",
    "```\n",
    "                                                          ┌───────┐\n",
    "                                q_0: ───────■─────────■───┤ Rz(α) ├\n",
    "                                     ┌───┐┌─┴─┐┌───┐┌─┴─┐ └─┬───┬─┘\n",
    "                                q_1: ┤ A ├┤ X ├┤ B ├┤ X ├───┤ C ├──\n",
    "                                     └───┘└───┘└───┘└───┘   └───┘  \n",
    "```\n",
    "where the last controlled gate is substituted with a single qubit Z-axis rotation of $\\alpha$ degrees.\n",
    "\n",
    "OpenSquirrel uses Z-Y-Z to construct the ABC gates. Consider,\n",
    "$$\n",
    "\\begin{split}\n",
    "        U &= e^{i\\alpha} R_z(\\theta_2) R_y(\\theta_1) R_z(\\theta_0) \\\\\n",
    "        &= e^{i\\alpha} R_z\\big(\\theta_2\\big) R_y\\big(\\frac{1}{2}\\theta_1\\big) R_y\\big(\\frac{1}{2}\\theta_0\\big)R_z\\big(\\frac{1}{2}\\theta_0+\\frac{1}{2}\\theta_2\\big)R_z\\big(\\frac{1}{2}\\theta_0-\\frac{1}{2}\\theta_2\\big) \\\\\n",
    "        &= e^{i\\alpha} R_z\\big(\\theta_2\\big) R_y\\big(\\frac{1}{2}\\theta_1\\big) X R_y\\big(-\\frac{1}{2}\\theta_0\\big) X X R_z\\big(-\\frac{1}{2}\\theta_0-\\frac{1}{2}\\theta_2\\big) X R_z\\big(\\frac{1}{2}\\theta_0-\\frac{1}{2}\\theta_2\\big) \\\\\n",
    "        &= e^{i\\alpha} A X B X C\n",
    "\\end{split},\n",
    "$$\n",
    "thus, \n",
    "$$\n",
    "\\begin{split}\n",
    "A &= Rz\\bigg(\\theta_2 \\bigg)Ry\\bigg( \\frac{1}{2} \\theta_1 \\bigg), \\\\\n",
    "B &= Ry\\bigg( - \\frac{1}{2} \\theta_1 \\bigg)Rz\\bigg( -\\frac{1}{2} \\theta_0 - \\frac{1}{2}\\theta_2 \\bigg),\\\\\n",
    "C &= Rz\\bigg(\\frac{1}{2} \\theta_0 - \\frac{1}{2} \\theta_2 \\bigg)\n",
    "\\end{split}\n",
    "$$"
   ]
  },
  {
   "cell_type": "code",
   "execution_count": 28,
   "id": "3cc1e9963f3e794d",
   "metadata": {
    "ExecuteTime": {
     "end_time": "2024-08-05T11:35:27.882752Z",
     "start_time": "2024-08-05T11:35:27.871794Z"
    }
   },
   "cell_type": "code",
   "source": [],
   "id": "3cc1e9963f3e794d",
   "outputs": [],
   "source": []
  }
 ],
 "metadata": {
  "kernelspec": {
   "display_name": "Python 3 (ipykernel)",
   "language": "python",
   "name": "python3"
  },
  "language_info": {
   "codemirror_mode": {
    "name": "ipython",
    "version": 3
   },
   "file_extension": ".py",
   "mimetype": "text/x-python",
   "name": "python",
   "nbconvert_exporter": "python",
   "pygments_lexer": "ipython3",
   "version": "3.11.1"
  }
 },
 "nbformat": 4,
 "nbformat_minor": 5
}
